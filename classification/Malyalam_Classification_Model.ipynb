{
 "cells": [
  {
   "cell_type": "code",
   "execution_count": 1,
   "metadata": {},
   "outputs": [],
   "source": [
    "from fastai.text import *\n",
    "import numpy as np\n",
    "from sklearn.model_selection import train_test_split\n",
    "import pickle\n",
    "import sentencepiece as spm\n",
    "import re\n",
    "import pdb"
   ]
  },
  {
   "cell_type": "code",
   "execution_count": 2,
   "metadata": {},
   "outputs": [
    {
     "data": {
      "text/plain": [
       "('1.0.57', '1.1.0')"
      ]
     },
     "execution_count": 2,
     "metadata": {},
     "output_type": "execute_result"
    }
   ],
   "source": [
    "import fastai, torch\n",
    "fastai.__version__ , torch.__version__"
   ]
  },
  {
   "cell_type": "code",
   "execution_count": 3,
   "metadata": {},
   "outputs": [],
   "source": [
    "torch.cuda.set_device(0)"
   ]
  },
  {
   "cell_type": "code",
   "execution_count": 4,
   "metadata": {},
   "outputs": [
    {
     "name": "stdout",
     "output_type": "stream",
     "text": [
      "/home/gaurav/PycharmProjects/nlp-for-malyalam/classification\r\n"
     ]
    }
   ],
   "source": [
    "!pwd"
   ]
  },
  {
   "cell_type": "code",
   "execution_count": 5,
   "metadata": {},
   "outputs": [],
   "source": [
    "path = Path('/home/gaurav/PycharmProjects/nlp-for-malyalam/classification')"
   ]
  },
  {
   "cell_type": "code",
   "execution_count": 6,
   "metadata": {},
   "outputs": [
    {
     "data": {
      "text/html": [
       "<div>\n",
       "<style scoped>\n",
       "    .dataframe tbody tr th:only-of-type {\n",
       "        vertical-align: middle;\n",
       "    }\n",
       "\n",
       "    .dataframe tbody tr th {\n",
       "        vertical-align: top;\n",
       "    }\n",
       "\n",
       "    .dataframe thead th {\n",
       "        text-align: right;\n",
       "    }\n",
       "</style>\n",
       "<table border=\"1\" class=\"dataframe\">\n",
       "  <thead>\n",
       "    <tr style=\"text-align: right;\">\n",
       "      <th></th>\n",
       "      <th>headings</th>\n",
       "      <th>label</th>\n",
       "    </tr>\n",
       "  </thead>\n",
       "  <tbody>\n",
       "    <tr>\n",
       "      <td>0</td>\n",
       "      <td>കൊച്ചി ചെരുപ്പ് വിതരണ കേന്ദ്രത്തിലെ തീപിടിത്തം...</td>\n",
       "      <td>business</td>\n",
       "    </tr>\n",
       "    <tr>\n",
       "      <td>1</td>\n",
       "      <td>ഈ​​​സ്റ്റേ​​​ണ്‍ ക​​​റി പൗ​​​ഡ​​​റി​​​ന് പു​​​...</td>\n",
       "      <td>business</td>\n",
       "    </tr>\n",
       "    <tr>\n",
       "      <td>2</td>\n",
       "      <td>ശ്രീശാന്തിന്റെ ആജീവനാന്ത വിലക്ക് പിന്‍വലിച്ചു</td>\n",
       "      <td>sports</td>\n",
       "    </tr>\n",
       "    <tr>\n",
       "      <td>3</td>\n",
       "      <td>റയല്‍ മാഡ്രിഡിനെ ഞെട്ടിച്ച യുവതാരം ബ്രസീല്‍ ടീ...</td>\n",
       "      <td>sports</td>\n",
       "    </tr>\n",
       "    <tr>\n",
       "      <td>4</td>\n",
       "      <td>എനിക്ക് ശ്രീനിവാസന്‍ ആകേണ്ട, ലോഹിതദാസ് മതി : ക...</td>\n",
       "      <td>entertainment</td>\n",
       "    </tr>\n",
       "  </tbody>\n",
       "</table>\n",
       "</div>"
      ],
      "text/plain": [
       "                                            headings          label\n",
       "0  കൊച്ചി ചെരുപ്പ് വിതരണ കേന്ദ്രത്തിലെ തീപിടിത്തം...       business\n",
       "1  ഈ​​​സ്റ്റേ​​​ണ്‍ ക​​​റി പൗ​​​ഡ​​​റി​​​ന് പു​​​...       business\n",
       "2      ശ്രീശാന്തിന്റെ ആജീവനാന്ത വിലക്ക് പിന്‍വലിച്ചു         sports\n",
       "3  റയല്‍ മാഡ്രിഡിനെ ഞെട്ടിച്ച യുവതാരം ബ്രസീല്‍ ടീ...         sports\n",
       "4  എനിക്ക് ശ്രീനിവാസന്‍ ആകേണ്ട, ലോഹിതദാസ് മതി : ക...  entertainment"
      ]
     },
     "execution_count": 6,
     "metadata": {},
     "output_type": "execute_result"
    }
   ],
   "source": [
    "train_df = pd.read_csv(path/'train.csv')\n",
    "train_df.head()"
   ]
  },
  {
   "cell_type": "code",
   "execution_count": 7,
   "metadata": {},
   "outputs": [
    {
     "data": {
      "text/html": [
       "<div>\n",
       "<style scoped>\n",
       "    .dataframe tbody tr th:only-of-type {\n",
       "        vertical-align: middle;\n",
       "    }\n",
       "\n",
       "    .dataframe tbody tr th {\n",
       "        vertical-align: top;\n",
       "    }\n",
       "\n",
       "    .dataframe thead th {\n",
       "        text-align: right;\n",
       "    }\n",
       "</style>\n",
       "<table border=\"1\" class=\"dataframe\">\n",
       "  <thead>\n",
       "    <tr style=\"text-align: right;\">\n",
       "      <th></th>\n",
       "      <th>headings</th>\n",
       "      <th>label</th>\n",
       "    </tr>\n",
       "  </thead>\n",
       "  <tbody>\n",
       "    <tr>\n",
       "      <td>0</td>\n",
       "      <td>അന്താരാഷ്ട്ര ഇന്റര്‍നെറ്റ് സേവനം താല്‍ക്കാലികമ...</td>\n",
       "      <td>business</td>\n",
       "    </tr>\n",
       "    <tr>\n",
       "      <td>1</td>\n",
       "      <td>മഞ്ഞ് ചതിച്ചാശാനേ!!!!, ഹാന്നോവറിന്റെ പ്രതീക്ഷക...</td>\n",
       "      <td>sports</td>\n",
       "    </tr>\n",
       "    <tr>\n",
       "      <td>2</td>\n",
       "      <td>12 സീസണ്‍ എട്ടു ചാമ്ബ്യന്മാര്‍, പ്രവചിക്കാന്‍ ...</td>\n",
       "      <td>sports</td>\n",
       "    </tr>\n",
       "    <tr>\n",
       "      <td>3</td>\n",
       "      <td>\\nമുംബൈ സിറ്റിയോടു തോറ്റിട്ടും യോഗ്യത നേടി ഗോവ...</td>\n",
       "      <td>sports</td>\n",
       "    </tr>\n",
       "    <tr>\n",
       "      <td>4</td>\n",
       "      <td>മദ്യപിച്ചെത്തിയ നടന്മാര്‍ തമ്മില്‍ കയ്യാങ്കളി;...</td>\n",
       "      <td>entertainment</td>\n",
       "    </tr>\n",
       "  </tbody>\n",
       "</table>\n",
       "</div>"
      ],
      "text/plain": [
       "                                            headings          label\n",
       "0  അന്താരാഷ്ട്ര ഇന്റര്‍നെറ്റ് സേവനം താല്‍ക്കാലികമ...       business\n",
       "1  മഞ്ഞ് ചതിച്ചാശാനേ!!!!, ഹാന്നോവറിന്റെ പ്രതീക്ഷക...         sports\n",
       "2  12 സീസണ്‍ എട്ടു ചാമ്ബ്യന്മാര്‍, പ്രവചിക്കാന്‍ ...         sports\n",
       "3  \\nമുംബൈ സിറ്റിയോടു തോറ്റിട്ടും യോഗ്യത നേടി ഗോവ...         sports\n",
       "4  മദ്യപിച്ചെത്തിയ നടന്മാര്‍ തമ്മില്‍ കയ്യാങ്കളി;...  entertainment"
      ]
     },
     "execution_count": 7,
     "metadata": {},
     "output_type": "execute_result"
    }
   ],
   "source": [
    "valid_df = pd.read_csv(path/'valid.csv')\n",
    "valid_df.head()"
   ]
  },
  {
   "cell_type": "code",
   "execution_count": 8,
   "metadata": {},
   "outputs": [
    {
     "name": "stdout",
     "output_type": "stream",
     "text": [
      "In Training data:\n",
      "business 1540\n",
      "sports 1743\n",
      "entertainment 1753\n"
     ]
    }
   ],
   "source": [
    "print('In Training data:')\n",
    "for cls in train_df['label'].unique():\n",
    "    print(cls, (train_df['label'] == cls).sum())"
   ]
  },
  {
   "cell_type": "code",
   "execution_count": 9,
   "metadata": {},
   "outputs": [
    {
     "name": "stdout",
     "output_type": "stream",
     "text": [
      "In Validation data:\n",
      "business 383\n",
      "sports 446\n",
      "entertainment 431\n"
     ]
    }
   ],
   "source": [
    "print('In Validation data:')\n",
    "for cls in valid_df['label'].unique():\n",
    "    print(cls, (valid_df['label'] == cls).sum())"
   ]
  },
  {
   "cell_type": "code",
   "execution_count": 10,
   "metadata": {},
   "outputs": [
    {
     "data": {
      "text/plain": [
       "'കൊച്ചി ചെരുപ്പ് വിതരണ കേന്ദ്രത്തിലെ തീപിടിത്തം; അന്വേഷണം തുടങ്ങി, അട്ടിമറി സാധ്യതയും പരിശോധിക്കുന്നു'"
      ]
     },
     "execution_count": 10,
     "metadata": {},
     "output_type": "execute_result"
    }
   ],
   "source": [
    "train_df['headings'][0]"
   ]
  },
  {
   "cell_type": "code",
   "execution_count": 11,
   "metadata": {},
   "outputs": [
    {
     "data": {
      "text/plain": [
       "((5036, 2), (1260, 2))"
      ]
     },
     "execution_count": 11,
     "metadata": {},
     "output_type": "execute_result"
    }
   ],
   "source": [
    "train_df.shape, valid_df.shape"
   ]
  },
  {
   "cell_type": "code",
   "execution_count": 12,
   "metadata": {},
   "outputs": [
    {
     "data": {
      "text/plain": [
       "((0, 2), (0, 2))"
      ]
     },
     "execution_count": 12,
     "metadata": {},
     "output_type": "execute_result"
    }
   ],
   "source": [
    "train_df[train_df['headings'].isnull()].shape, valid_df[valid_df['headings'].isnull()].shape"
   ]
  },
  {
   "cell_type": "code",
   "execution_count": 13,
   "metadata": {},
   "outputs": [],
   "source": [
    "label_cols = list(range(1,train_df.shape[1]))"
   ]
  },
  {
   "cell_type": "code",
   "execution_count": 14,
   "metadata": {},
   "outputs": [
    {
     "name": "stdout",
     "output_type": "stream",
     "text": [
      "[1]\n"
     ]
    }
   ],
   "source": [
    "print(label_cols)"
   ]
  },
  {
   "cell_type": "code",
   "execution_count": 16,
   "metadata": {},
   "outputs": [],
   "source": [
    "id_to_col = list(train_df.columns)"
   ]
  },
  {
   "cell_type": "code",
   "execution_count": 17,
   "metadata": {},
   "outputs": [],
   "source": [
    "col_to_id = {}\n",
    "for i, col in enumerate(id_to_col):\n",
    "    col_to_id[col] = i"
   ]
  },
  {
   "cell_type": "code",
   "execution_count": 18,
   "metadata": {},
   "outputs": [],
   "source": [
    "class MalyalamTokenizer(BaseTokenizer):\n",
    "    def __init__(self, lang:str):\n",
    "        self.lang = lang\n",
    "        self.sp = spm.SentencePieceProcessor()\n",
    "        self.sp.Load(str(path/\"../tokenizer/malyalam_lm.model\"))\n",
    "        \n",
    "    def tokenizer(self, t:str) -> List[str]:\n",
    "        return self.sp.EncodeAsPieces(t)"
   ]
  },
  {
   "cell_type": "code",
   "execution_count": 19,
   "metadata": {},
   "outputs": [],
   "source": [
    "sp = spm.SentencePieceProcessor()\n",
    "sp.Load(str(path/\"../tokenizer/malyalam_lm.model\"))\n",
    "itos = [sp.IdToPiece(int(i)) for i in range(10000)]"
   ]
  },
  {
   "cell_type": "code",
   "execution_count": 20,
   "metadata": {},
   "outputs": [],
   "source": [
    "# 10,000 is the vocab size that we chose in sentencepiece\n",
    "malyalam_vocab = Vocab(itos)"
   ]
  },
  {
   "cell_type": "code",
   "execution_count": 21,
   "metadata": {},
   "outputs": [],
   "source": [
    "tokenizer = Tokenizer(tok_func=MalyalamTokenizer, lang='ml')"
   ]
  },
  {
   "cell_type": "code",
   "execution_count": 22,
   "metadata": {},
   "outputs": [
    {
     "data": {
      "text/plain": [
       "['xxunk',\n",
       " 'xxpad',\n",
       " 'xxbos',\n",
       " 'xxeos',\n",
       " 'xxfld',\n",
       " 'xxmaj',\n",
       " 'xxup',\n",
       " 'xxrep',\n",
       " 'xxwrep']"
      ]
     },
     "execution_count": 22,
     "metadata": {},
     "output_type": "execute_result"
    }
   ],
   "source": [
    "tokenizer.special_cases"
   ]
  },
  {
   "cell_type": "code",
   "execution_count": 23,
   "metadata": {},
   "outputs": [],
   "source": [
    "data_lm = TextLMDataBunch.from_df(path=path, train_df=train_df, valid_df=valid_df, text_cols=[0], label_cols=label_cols, tokenizer=tokenizer, vocab=malyalam_vocab, bs=16)"
   ]
  },
  {
   "cell_type": "code",
   "execution_count": 24,
   "metadata": {},
   "outputs": [],
   "source": [
    "data_lm.save()"
   ]
  },
  {
   "cell_type": "code",
   "execution_count": 25,
   "metadata": {},
   "outputs": [
    {
     "data": {
      "text/html": [
       "<table border=\"1\" class=\"dataframe\">\n",
       "  <thead>\n",
       "    <tr style=\"text-align: right;\">\n",
       "      <th>idx</th>\n",
       "      <th>text</th>\n",
       "    </tr>\n",
       "  </thead>\n",
       "  <tbody>\n",
       "    <tr>\n",
       "      <td>0</td>\n",
       "      <td>▁ഡി ▁ന് ▁റെ ▁അ വാര ് ▁ ഡ് ▁പ ▁ രി ▁സ് ഥി ▁തി ▁സൗ ▁ഹ ൃ ▁ദ ▁പ്ര ▁വ ▁ര ് ▁ ത്ത ▁ന ▁ രീ ▁തി ▁കള ് ▁നടപ്പാക്ക ിയ ത ിനുള്ള ▁അംഗീകാര മായി ▁ x x bo s ▁ശ്രീശാന്ത ിന്റെ ▁ആ ജീവ ന ാന്ത ▁വിലക്ക ് ▁പി ന് ▁വലിച്ച ു ▁ x x bo s ▁റ യ ല് ▁മാഡ്രിഡ ിനെ ▁ഞ െ ട്ട ിച്ച ▁യുവ താര ം</td>\n",
       "    </tr>\n",
       "    <tr>\n",
       "      <td>1</td>\n",
       "      <td>ങ്ങള ് ▁ക്ല ബ് ▁വിട ാന ൊരു ങ്ങ ുന്നു ; ▁റ യ ല് ▁പ്രതിസന്ധി യിലേക്ക് ▁ x x bo s ▁കോ ലി ക്ക് ▁വീ ണ്ടു മ ൊരു ▁റെ ക്കോ ര ് ▁ ഡ് , ▁ഇത് തവണ ▁എ ബി ഡി യെ ▁കടത്ത ി വെ ട്ടി &lt;unk&gt; ▁അ വി ശ്വ സ നീയ ▁നേട്ട ം , ▁സച്ചിന ും ▁പിന്ന ില ് ▁ x x bo s ▁ചരിത്രം ▁ആ വര ് ▁ ത്തി ക്കു</td>\n",
       "    </tr>\n",
       "    <tr>\n",
       "      <td>2</td>\n",
       "      <td>▁പ്രവചന ം ▁ x x bo s ▁താ ന് ▁കണ്ട ▁ഏറ്റവും ▁മികച്ച ▁മലയാള ▁സിനിമ ▁സു ഡ ാനി ▁ഫ്ര ം ▁നൈജീരിയ യാണെന്ന് ▁ഫഹദ് ▁ x x bo s ▁ഡ ല് ▁ഹി ▁ക്യാ പി റ്റ ല് ▁സ് ▁ഉപ ദ േ ഷ്ട ാവ ായി ▁സൗര വ് ▁ഗ ാംഗ ു ലി ▁ x x bo s ▁ചുണ്ട ില ് ▁എ രിയ ുന്ന ▁സി ഗര റ്റ് , ▁തീ ക്ഷണ മായ ▁നോട്ട ം ; ▁' ഇ</td>\n",
       "    </tr>\n",
       "    <tr>\n",
       "      <td>3</td>\n",
       "      <td>s ▁ഫോ ബ് ▁സ് ▁ധന ിക രുടെ ▁പട്ടിക ; ▁മലയാളി കളില ് ▁ഒന്ന ാ മ ന് ▁എം ▁എ ▁യൂ സു ഫ ലി ▁തന്നെ ▁ x x bo s ▁റി ല യ ന് ▁സ് ▁ജി യോ യുടെ ▁പേരില ് ▁രാജ്യ വ്യാപക മായി ▁മൊ ബൈ ല് ▁ട വര ് ▁കുംഭ കൊ ണം ; ▁ശക്തമായ ▁നിയമ നടപടികള ുമായി ▁ക മ ് ബ നി ▁ x x bo s ▁തെരഞ്ഞെടുപ്പി ന് ▁മു ന് ▁പ</td>\n",
       "    </tr>\n",
       "    <tr>\n",
       "      <td>4</td>\n",
       "      <td>▁പ്രതി കാര ത്തെക്കുറിച്ച് ▁ചിത്ര ▁ x x bo s ▁നാല് ▁മാസ ങ്ങള ് ▁ ക്ക് ▁ശേഷം ▁പാര ് ▁വ തി ▁വീണ്ടും ▁സോ ഷ്യ ല് ▁മീഡിയ യിലേക്ക് ▁ x x bo s ▁ലോകകപ്പ ് ▁ടീമ ില ് ▁ഇട ം ▁നേട ുകയാണ് ▁തന്റെ ▁ഏറ്റവും ▁വലിയ ▁മോഹ ം ; ▁ഓ സ് ▁ട്ര േലിയ ന് ▁താര ം ▁ x x bo s ▁ഏകദിന ▁കരി യ റി ല് ▁മറ്റൊരു ▁നാ ഴി ക ക്കല്ല ിന രി</td>\n",
       "    </tr>\n",
       "  </tbody>\n",
       "</table>"
      ],
      "text/plain": [
       "<IPython.core.display.HTML object>"
      ]
     },
     "metadata": {},
     "output_type": "display_data"
    }
   ],
   "source": [
    "data_lm.show_batch()"
   ]
  },
  {
   "cell_type": "code",
   "execution_count": 26,
   "metadata": {},
   "outputs": [],
   "source": [
    "awd_lstm_config = awd_lstm_lm_config.copy()\n",
    "awd_lstm_config['n_hid'] = 1150\n",
    "learn = language_model_learner(data_lm, arch=AWD_LSTM, drop_mult=0.3, config=awd_lstm_config, pretrained=False)"
   ]
  },
  {
   "cell_type": "code",
   "execution_count": 27,
   "metadata": {
    "scrolled": true
   },
   "outputs": [
    {
     "data": {
      "text/plain": [
       "LanguageLearner(data=TextLMDataBunch;\n",
       "\n",
       "Train: LabelList (5036 items)\n",
       "x: LMTextList\n",
       "▁ x x bo s ▁കൊച്ചി ▁ചെ രു പ്പ് ▁വിതരണ ▁കേന്ദ്ര ത്തിലെ ▁തീ പിടി ത്ത ം ; ▁അന്വേഷണ ം ▁തുടങ്ങി , ▁അട്ടിമറി ▁സാധ്യത യും ▁പരിശോധിക്ക ുന്നു,▁ x x bo s ▁ഈ ▁സ്റ്റ േ ▁ ണ് ▁ക ▁റി ▁പൗ ▁ഡ ▁റി ▁ന് ▁പു ▁ര ▁സ്ക ാ ▁ര ം ; ▁സം ▁ സ്ഥ ാ ▁ന ▁മ ▁ലി ▁നീ ▁ക ▁ര ▁ ണ ▁നി ▁യ ▁ന് ത്ര ▁ ണ ▁ബോ ▁ര ് ▁ഡി ▁ന് ▁റെ ▁അ വാര ് ▁ ഡ് ▁പ ▁ രി ▁സ് ഥി ▁തി ▁സൗ ▁ഹ ൃ ▁ദ ▁പ്ര ▁വ ▁ര ് ▁ ത്ത ▁ന ▁ രീ ▁തി ▁കള ് ▁നടപ്പാക്ക ിയ ത ിനുള്ള ▁അംഗീകാര മായി,▁ x x bo s ▁ശ്രീശാന്ത ിന്റെ ▁ആ ജീവ ന ാന്ത ▁വിലക്ക ് ▁പി ന് ▁വലിച്ച ു,▁ x x bo s ▁റ യ ല് ▁മാഡ്രിഡ ിനെ ▁ഞ െ ട്ട ിച്ച ▁യുവ താര ം ▁ബ്രസീല ് ▁ടീമ ില ്,▁ x x bo s ▁എനിക്ക് ▁ശ്രീനിവാസ ന് ▁ആക േണ്ട , ▁ലോഹ ിത ദാസ് ▁മതി ▁: ▁കാരണം ▁തുറന്നു ▁പറഞ്ഞു ▁ശ്യാം ▁പു ഷ് കര ന്\n",
       "y: LMLabelList\n",
       ",,,,\n",
       "Path: /home/gaurav/PycharmProjects/nlp-for-malyalam/classification;\n",
       "\n",
       "Valid: LabelList (1260 items)\n",
       "x: LMTextList\n",
       "▁ x x bo s ▁അന്താരാഷ്ട്ര ▁ഇ ന്റ ര ് ▁നെറ്റ് ▁സേവനം ▁താ ല് ▁ ക്കാല ിക മായി ▁നിര ് ▁ ത്ത ലാ ക്കും ; ▁സൈ ബ ര ് ▁പ്രതിരോധ ത്തിന്റെ ▁ഭാഗമായി ▁ബി ല് ▁പാസ് സ ാക്കി ▁റഷ്യ,▁ x x bo s ▁മഞ്ഞ ് ▁ച തി ച്ചാ ശാ നേ ▁ x x re p ▁4 ▁ <unk> ▁ , ▁ഹാ ന് നോവ റിന്റെ ▁പ്രതീക്ഷ കള ് ▁ത കര ് ▁ ന്ന ത് ▁30 ▁സെന്റീമീറ്റ ര ് ▁അകലെ,▁ x x bo s ▁12 ▁സീസണ ് ▁എട്ടു ▁ചാ മ ് ബ് യ ന് മാര ് ▁ , ▁പ്രവചിക്ക ാന ് ▁ആവ ാത്ത ▁ഐ ലീ ഗ്,▁ x x bo s ▁മുംബൈ ▁സിറ്റി യോടു ▁തോ റ്റ ിട്ടും ▁യോഗ്യത ▁നേടി ▁ഗോവ ; ▁ഐ ▁എസ് ▁എ ല് ▁ഫൈ ന ▁ബെ ംഗ ള ൂര ു ▁- ▁ഗോവ ▁പോരാട്ട ം,▁ x x bo s ▁മദ്യ പിച്ച െത്തിയ ▁നട ന് മാര ് ▁തമ്മില ് ▁കയ്യ ാങ്ക ളി ; ▁കന്നഡ ▁നട ന് ▁അഭിഷേക ിനെ ▁മര ് ▁ ദ്ദ ിച്ച വശ ന ാക്കിയ ▁കേസ ില ് ▁തമിഴ് ▁നട ന് ▁വി മല ിനെതിരെ ▁കേസ ് ; ▁സുഹൃത്തുക്കള ് ▁ ക്കൊപ്പം ▁ചേര ് ▁ ന്ന് ▁മര ് ▁ ദ്ദ ിച്ച ശേഷം ▁ഒളി വില ് ▁പോയ ▁നട ന െതിരെ ▁ലൂ ക്ക് ▁ഔ ട്ട് ▁നോട്ട ീസ്\n",
       "y: LMLabelList\n",
       ",,,,\n",
       "Path: /home/gaurav/PycharmProjects/nlp-for-malyalam/classification;\n",
       "\n",
       "Test: None, model=SequentialRNN(\n",
       "  (0): AWD_LSTM(\n",
       "    (encoder): Embedding(10000, 400, padding_idx=1)\n",
       "    (encoder_dp): EmbeddingDropout(\n",
       "      (emb): Embedding(10000, 400, padding_idx=1)\n",
       "    )\n",
       "    (rnns): ModuleList(\n",
       "      (0): WeightDropout(\n",
       "        (module): LSTM(400, 1150, batch_first=True)\n",
       "      )\n",
       "      (1): WeightDropout(\n",
       "        (module): LSTM(1150, 1150, batch_first=True)\n",
       "      )\n",
       "      (2): WeightDropout(\n",
       "        (module): LSTM(1150, 400, batch_first=True)\n",
       "      )\n",
       "    )\n",
       "    (input_dp): RNNDropout()\n",
       "    (hidden_dps): ModuleList(\n",
       "      (0): RNNDropout()\n",
       "      (1): RNNDropout()\n",
       "      (2): RNNDropout()\n",
       "    )\n",
       "  )\n",
       "  (1): LinearDecoder(\n",
       "    (decoder): Linear(in_features=400, out_features=10000, bias=True)\n",
       "    (output_dp): RNNDropout()\n",
       "  )\n",
       "), opt_func=functools.partial(<class 'torch.optim.adam.Adam'>, betas=(0.9, 0.99)), loss_func=FlattenedLoss of CrossEntropyLoss(), metrics=[<function accuracy at 0x7f02ec3914d0>], true_wd=True, bn_wd=True, wd=0.01, train_bn=True, path=PosixPath('/home/gaurav/PycharmProjects/nlp-for-malyalam/classification'), model_dir='models', callback_fns=[functools.partial(<class 'fastai.basic_train.Recorder'>, add_time=True, silent=False)], callbacks=[RNNTrainer\n",
       "learn: ...\n",
       "alpha: 2.0\n",
       "beta: 1.0], layer_groups=[Sequential(\n",
       "  (0): WeightDropout(\n",
       "    (module): LSTM(400, 1150, batch_first=True)\n",
       "  )\n",
       "  (1): RNNDropout()\n",
       "), Sequential(\n",
       "  (0): WeightDropout(\n",
       "    (module): LSTM(1150, 1150, batch_first=True)\n",
       "  )\n",
       "  (1): RNNDropout()\n",
       "), Sequential(\n",
       "  (0): WeightDropout(\n",
       "    (module): LSTM(1150, 400, batch_first=True)\n",
       "  )\n",
       "  (1): RNNDropout()\n",
       "), Sequential(\n",
       "  (0): Embedding(10000, 400, padding_idx=1)\n",
       "  (1): EmbeddingDropout(\n",
       "    (emb): Embedding(10000, 400, padding_idx=1)\n",
       "  )\n",
       "  (2): LinearDecoder(\n",
       "    (decoder): Linear(in_features=400, out_features=10000, bias=True)\n",
       "    (output_dp): RNNDropout()\n",
       "  )\n",
       ")], add_time=True, silent=False, cb_fns_registered=False)"
      ]
     },
     "execution_count": 27,
     "metadata": {},
     "output_type": "execute_result"
    }
   ],
   "source": [
    "# Loading the pretrained language model on malyalam wikipedia\n",
    "learn.load('/home/gaurav/PycharmProjects/nlp-for-malyalam/language-model/MalyalamDataset/models/third_ml_lm', with_opt=True)"
   ]
  },
  {
   "cell_type": "code",
   "execution_count": 28,
   "metadata": {},
   "outputs": [],
   "source": [
    "# Fine tuning the prtrained LM on current dataset"
   ]
  },
  {
   "cell_type": "code",
   "execution_count": 29,
   "metadata": {},
   "outputs": [
    {
     "data": {
      "text/html": [],
      "text/plain": [
       "<IPython.core.display.HTML object>"
      ]
     },
     "metadata": {},
     "output_type": "display_data"
    },
    {
     "name": "stdout",
     "output_type": "stream",
     "text": [
      "LR Finder is complete, type {learner_name}.recorder.plot() to see the graph.\n"
     ]
    }
   ],
   "source": [
    "learn.lr_find()"
   ]
  },
  {
   "cell_type": "code",
   "execution_count": 30,
   "metadata": {},
   "outputs": [
    {
     "data": {
      "image/png": "[encoded data removed]",
      "text/plain": [
       "<Figure size 432x288 with 1 Axes>"
      ]
     },
     "metadata": {
      "needs_background": "light"
     },
     "output_type": "display_data"
    }
   ],
   "source": [
    "learn.recorder.plot()"
   ]
  },
  {
   "cell_type": "code",
   "execution_count": 31,
   "metadata": {},
   "outputs": [],
   "source": [
    "learn.freeze()"
   ]
  },
  {
   "cell_type": "code",
   "execution_count": 32,
   "metadata": {},
   "outputs": [
    {
     "data": {
      "text/html": [
       "<table border=\"1\" class=\"dataframe\">\n",
       "  <thead>\n",
       "    <tr style=\"text-align: left;\">\n",
       "      <th>epoch</th>\n",
       "      <th>train_loss</th>\n",
       "      <th>valid_loss</th>\n",
       "      <th>accuracy</th>\n",
       "      <th>time</th>\n",
       "    </tr>\n",
       "  </thead>\n",
       "  <tbody>\n",
       "    <tr>\n",
       "      <td>0</td>\n",
       "      <td>4.363463</td>\n",
       "      <td>3.974632</td>\n",
       "      <td>0.376434</td>\n",
       "      <td>00:09</td>\n",
       "    </tr>\n",
       "  </tbody>\n",
       "</table>"
      ],
      "text/plain": [
       "<IPython.core.display.HTML object>"
      ]
     },
     "metadata": {},
     "output_type": "display_data"
    }
   ],
   "source": [
    "learn.fit_one_cycle(1, 1e-2)"
   ]
  },
  {
   "cell_type": "code",
   "execution_count": 33,
   "metadata": {},
   "outputs": [],
   "source": [
    "learn.unfreeze()"
   ]
  },
  {
   "cell_type": "code",
   "execution_count": 34,
   "metadata": {},
   "outputs": [
    {
     "data": {
      "text/html": [
       "<table border=\"1\" class=\"dataframe\">\n",
       "  <thead>\n",
       "    <tr style=\"text-align: left;\">\n",
       "      <th>epoch</th>\n",
       "      <th>train_loss</th>\n",
       "      <th>valid_loss</th>\n",
       "      <th>accuracy</th>\n",
       "      <th>time</th>\n",
       "    </tr>\n",
       "  </thead>\n",
       "  <tbody>\n",
       "    <tr>\n",
       "      <td>0</td>\n",
       "      <td>3.760584</td>\n",
       "      <td>3.642399</td>\n",
       "      <td>0.413934</td>\n",
       "      <td>00:11</td>\n",
       "    </tr>\n",
       "    <tr>\n",
       "      <td>1</td>\n",
       "      <td>3.386792</td>\n",
       "      <td>3.324242</td>\n",
       "      <td>0.453842</td>\n",
       "      <td>00:11</td>\n",
       "    </tr>\n",
       "    <tr>\n",
       "      <td>2</td>\n",
       "      <td>3.036842</td>\n",
       "      <td>3.172777</td>\n",
       "      <td>0.475406</td>\n",
       "      <td>00:11</td>\n",
       "    </tr>\n",
       "    <tr>\n",
       "      <td>3</td>\n",
       "      <td>2.796628</td>\n",
       "      <td>3.115433</td>\n",
       "      <td>0.485308</td>\n",
       "      <td>00:11</td>\n",
       "    </tr>\n",
       "    <tr>\n",
       "      <td>4</td>\n",
       "      <td>2.679175</td>\n",
       "      <td>3.108219</td>\n",
       "      <td>0.486688</td>\n",
       "      <td>00:11</td>\n",
       "    </tr>\n",
       "  </tbody>\n",
       "</table>"
      ],
      "text/plain": [
       "<IPython.core.display.HTML object>"
      ]
     },
     "metadata": {},
     "output_type": "display_data"
    }
   ],
   "source": [
    "learn.fit_one_cycle(5, 1e-3)"
   ]
  },
  {
   "cell_type": "code",
   "execution_count": 35,
   "metadata": {},
   "outputs": [
    {
     "data": {
      "text/plain": [
       "'മലയാള ികളായ ▁വിമാന യാത്ര ക്കാര ് വിള ിക്കുന്നു ▁ x x bo s ▁ഷെ ഫ്'"
      ]
     },
     "execution_count": 35,
     "metadata": {},
     "output_type": "execute_result"
    }
   ],
   "source": [
    "learn.predict('മലയാള ികളായ ▁വിമാന യാത്ര ക്കാര',n_words=10)"
   ]
  },
  {
   "cell_type": "code",
   "execution_count": 36,
   "metadata": {},
   "outputs": [],
   "source": [
    "learn.save_encoder('fine_tuned_enc')"
   ]
  },
  {
   "cell_type": "code",
   "execution_count": 37,
   "metadata": {},
   "outputs": [],
   "source": [
    "data_clas = TextClasDataBunch.from_df(path=path, train_df=train_df, valid_df=valid_df, tokenizer=tokenizer, vocab=malyalam_vocab, text_cols=[0], label_cols=label_cols, bs=16)"
   ]
  },
  {
   "cell_type": "code",
   "execution_count": 38,
   "metadata": {},
   "outputs": [
    {
     "data": {
      "text/html": [
       "<table border=\"1\" class=\"dataframe\">\n",
       "  <thead>\n",
       "    <tr style=\"text-align: right;\">\n",
       "      <th>text</th>\n",
       "      <th>target</th>\n",
       "    </tr>\n",
       "  </thead>\n",
       "  <tbody>\n",
       "    <tr>\n",
       "      <td>▁ x x bo s ▁ശ ▁ബ ▁ രി ▁മ ▁ല ▁വി ▁ക ▁സ ▁ന ത്തിനായി ▁സ ▁ര ് ▁ ക്കാ ▁ര ് ▁നി ▁യ ▁ന് ത്ര ▁ ണ ▁ ത്തി ▁ല ് ▁പ്ര ▁ ത് യേ ▁ക ▁ക ▁മ ് ബ ▁നി ▁ര ൂ ▁പീ ▁ക ▁ രി ▁ ക്കാ ▁ന് ▁തീ ▁ രു ▁മാ ▁ന ം ; ▁നടപടി ▁തീ ▁ x x re p ▁5 ▁ര ് ▁</td>\n",
       "      <td>business</td>\n",
       "    </tr>\n",
       "    <tr>\n",
       "      <td>▁ x x bo s ▁ജെ ▁ റ്റ് ▁എ ▁യ ▁ര ് ▁വേ സി ▁നെ ▁ര ▁ ക്ഷി ▁ ക്കാ ▁നു ▁ ള്ള ▁ശ്ര ▁മ ▁ ങ്ങ ▁ ള ് ▁ ക്കു ▁വീ ▁ ണ്ടു ം ▁ത ▁ട ▁സം ; ▁കു ▁ടി ▁ശി ▁ക യെ തു ▁ട ▁ര ് ▁ ന്ന് ▁ഒ ▁ന് ▁പ ▁തു ▁വി ▁മാ ▁ന ▁ ങ്ങ ▁ ള ് ▁പാ ▁ ട്ട ▁ ക്ക മ ്</td>\n",
       "      <td>business</td>\n",
       "    </tr>\n",
       "    <tr>\n",
       "      <td>▁ x x bo s ▁ഇതു പോ ല ൊരു ▁റ ണ് ▁ചേ സ് ▁മൊ ഹാ ലി ▁കണ്ട ിട്ടില്ല ; ▁ടീം ▁ഇന്ത്യയുടെ ▁റ ണ് ▁മല ▁ 43 ▁പന്ത ില ് ▁ഓടി ക്ക യ റി ▁ആ ഷ്ട ണ് ▁ട േണ ര ് ▁ഓ സീ സിന്റെ ▁വിജയ ക്കൊ ടി ▁ഉയര ് ▁ ത്തിയ പ്പോ ള ് ▁തല കു ന ിച്ച് ▁കോ ഹ് ലി യും ▁കൂട്ട ു കാര ും ; ▁നാലു വി ക്ക റ്റ്</td>\n",
       "      <td>sports</td>\n",
       "    </tr>\n",
       "    <tr>\n",
       "      <td>▁ x x bo s ▁ഐ എസ് ▁എ ല് ▁സെമി യിലെ ▁രണ്ടാം ▁പാദ ത്തില ് ▁ഒരു ▁ഗോള ിന് ▁തോ റ്റ ിട്ടും ▁എഫ് ▁സി ▁ഗോവ ▁ഫൈനല ില ് ▁ ; ▁തു ണ യായ ത് ▁ആദ്യ ▁മത്സര ത്തിലെ ▁കൂ റ്റ ന് ▁ &lt;unk&gt; 5 -1 ) ▁ജയ ം ; ▁നാ ട്ടി ല് ▁നടക്കുന്ന ▁ഫൈനല ിന് ▁യോഗ്യത ▁നേട ാതെ ▁മുംബൈ യുടെ ▁മ ടക്കം ; ▁പുതിയ ▁കിരീട ാവകാശ ി കളെ ▁തേടി യുള്ള ▁കലാശ പ്പോ</td>\n",
       "      <td>sports</td>\n",
       "    </tr>\n",
       "    <tr>\n",
       "      <td>▁ x x bo s ▁ഐ എസ് ▁എ ല് ▁സെമി യിലെ ▁രണ്ടാം ▁പാദ ത്തില ് ▁ഒരു ▁ഗോള ിന് ▁തോ റ്റ ിട്ടും ▁എഫ് ▁സി ▁ഗോവ ▁ഫൈനല ില ് ▁ ; ▁തു ണ യായ ത് ▁ആദ്യ ▁മത്സര ത്തിലെ ▁കൂ റ്റ ന് ▁ &lt;unk&gt; 5 -1 ) ▁ജയ ം ; ▁നാ ട്ടി ല് ▁നടക്കുന്ന ▁ഫൈനല ിന് ▁യോഗ്യത ▁നേട ാതെ ▁മുംബൈ യുടെ ▁മ ടക്കം ; ▁പുതിയ ▁കിരീട ാവകാശ ി കളെ ▁തേടി യുള്ള ▁കലാശ പ്പോ</td>\n",
       "      <td>sports</td>\n",
       "    </tr>\n",
       "  </tbody>\n",
       "</table>"
      ],
      "text/plain": [
       "<IPython.core.display.HTML object>"
      ]
     },
     "metadata": {},
     "output_type": "display_data"
    }
   ],
   "source": [
    "data_clas.show_batch()"
   ]
  },
  {
   "cell_type": "code",
   "execution_count": 39,
   "metadata": {},
   "outputs": [],
   "source": [
    "del awd_lstm_config['tie_weights']\n",
    "del awd_lstm_config['out_bias']"
   ]
  },
  {
   "cell_type": "code",
   "execution_count": 40,
   "metadata": {},
   "outputs": [],
   "source": [
    "learn = text_classifier_learner(data_clas, arch=AWD_LSTM, drop_mult=0.5, config=awd_lstm_config)"
   ]
  },
  {
   "cell_type": "code",
   "execution_count": 41,
   "metadata": {
    "scrolled": true
   },
   "outputs": [
    {
     "data": {
      "text/plain": [
       "RNNLearner(data=TextClasDataBunch;\n",
       "\n",
       "Train: LabelList (5036 items)\n",
       "x: TextList\n",
       "▁ x x bo s ▁കൊച്ചി ▁ചെ രു പ്പ് ▁വിതരണ ▁കേന്ദ്ര ത്തിലെ ▁തീ പിടി ത്ത ം ; ▁അന്വേഷണ ം ▁തുടങ്ങി , ▁അട്ടിമറി ▁സാധ്യത യും ▁പരിശോധിക്ക ുന്നു,▁ x x bo s ▁ഈ ▁സ്റ്റ േ ▁ ണ് ▁ക ▁റി ▁പൗ ▁ഡ ▁റി ▁ന് ▁പു ▁ര ▁സ്ക ാ ▁ര ം ; ▁സം ▁ സ്ഥ ാ ▁ന ▁മ ▁ലി ▁നീ ▁ക ▁ര ▁ ണ ▁നി ▁യ ▁ന് ത്ര ▁ ണ ▁ബോ ▁ര ് ▁ഡി ▁ന് ▁റെ ▁അ വാര ് ▁ ഡ് ▁പ ▁ രി ▁സ് ഥി ▁തി ▁സൗ ▁ഹ ൃ ▁ദ ▁പ്ര ▁വ ▁ര ് ▁ ത്ത ▁ന ▁ രീ ▁തി ▁കള ് ▁നടപ്പാക്ക ിയ ത ിനുള്ള ▁അംഗീകാര മായി,▁ x x bo s ▁ശ്രീശാന്ത ിന്റെ ▁ആ ജീവ ന ാന്ത ▁വിലക്ക ് ▁പി ന് ▁വലിച്ച ു,▁ x x bo s ▁റ യ ല് ▁മാഡ്രിഡ ിനെ ▁ഞ െ ട്ട ിച്ച ▁യുവ താര ം ▁ബ്രസീല ് ▁ടീമ ില ്,▁ x x bo s ▁എനിക്ക് ▁ശ്രീനിവാസ ന് ▁ആക േണ്ട , ▁ലോഹ ിത ദാസ് ▁മതി ▁: ▁കാരണം ▁തുറന്നു ▁പറഞ്ഞു ▁ശ്യാം ▁പു ഷ് കര ന്\n",
       "y: CategoryList\n",
       "business,business,sports,sports,entertainment\n",
       "Path: /home/gaurav/PycharmProjects/nlp-for-malyalam/classification;\n",
       "\n",
       "Valid: LabelList (1260 items)\n",
       "x: TextList\n",
       "▁ x x bo s ▁അന്താരാഷ്ട്ര ▁ഇ ന്റ ര ് ▁നെറ്റ് ▁സേവനം ▁താ ല് ▁ ക്കാല ിക മായി ▁നിര ് ▁ ത്ത ലാ ക്കും ; ▁സൈ ബ ര ് ▁പ്രതിരോധ ത്തിന്റെ ▁ഭാഗമായി ▁ബി ല് ▁പാസ് സ ാക്കി ▁റഷ്യ,▁ x x bo s ▁മഞ്ഞ ് ▁ച തി ച്ചാ ശാ നേ ▁ x x re p ▁4 ▁ <unk> ▁ , ▁ഹാ ന് നോവ റിന്റെ ▁പ്രതീക്ഷ കള ് ▁ത കര ് ▁ ന്ന ത് ▁30 ▁സെന്റീമീറ്റ ര ് ▁അകലെ,▁ x x bo s ▁12 ▁സീസണ ് ▁എട്ടു ▁ചാ മ ് ബ് യ ന് മാര ് ▁ , ▁പ്രവചിക്ക ാന ് ▁ആവ ാത്ത ▁ഐ ലീ ഗ്,▁ x x bo s ▁മുംബൈ ▁സിറ്റി യോടു ▁തോ റ്റ ിട്ടും ▁യോഗ്യത ▁നേടി ▁ഗോവ ; ▁ഐ ▁എസ് ▁എ ല് ▁ഫൈ ന ▁ബെ ംഗ ള ൂര ു ▁- ▁ഗോവ ▁പോരാട്ട ം,▁ x x bo s ▁മദ്യ പിച്ച െത്തിയ ▁നട ന് മാര ് ▁തമ്മില ് ▁കയ്യ ാങ്ക ളി ; ▁കന്നഡ ▁നട ന് ▁അഭിഷേക ിനെ ▁മര ് ▁ ദ്ദ ിച്ച വശ ന ാക്കിയ ▁കേസ ില ് ▁തമിഴ് ▁നട ന് ▁വി മല ിനെതിരെ ▁കേസ ് ; ▁സുഹൃത്തുക്കള ് ▁ ക്കൊപ്പം ▁ചേര ് ▁ ന്ന് ▁മര ് ▁ ദ്ദ ിച്ച ശേഷം ▁ഒളി വില ് ▁പോയ ▁നട ന െതിരെ ▁ലൂ ക്ക് ▁ഔ ട്ട് ▁നോട്ട ീസ്\n",
       "y: CategoryList\n",
       "business,sports,sports,sports,entertainment\n",
       "Path: /home/gaurav/PycharmProjects/nlp-for-malyalam/classification;\n",
       "\n",
       "Test: None, model=SequentialRNN(\n",
       "  (0): MultiBatchEncoder(\n",
       "    (module): AWD_LSTM(\n",
       "      (encoder): Embedding(10000, 400, padding_idx=1)\n",
       "      (encoder_dp): EmbeddingDropout(\n",
       "        (emb): Embedding(10000, 400, padding_idx=1)\n",
       "      )\n",
       "      (rnns): ModuleList(\n",
       "        (0): WeightDropout(\n",
       "          (module): LSTM(400, 1150, batch_first=True)\n",
       "        )\n",
       "        (1): WeightDropout(\n",
       "          (module): LSTM(1150, 1150, batch_first=True)\n",
       "        )\n",
       "        (2): WeightDropout(\n",
       "          (module): LSTM(1150, 400, batch_first=True)\n",
       "        )\n",
       "      )\n",
       "      (input_dp): RNNDropout()\n",
       "      (hidden_dps): ModuleList(\n",
       "        (0): RNNDropout()\n",
       "        (1): RNNDropout()\n",
       "        (2): RNNDropout()\n",
       "      )\n",
       "    )\n",
       "  )\n",
       "  (1): PoolingLinearClassifier(\n",
       "    (layers): Sequential(\n",
       "      (0): BatchNorm1d(1200, eps=1e-05, momentum=0.1, affine=True, track_running_stats=True)\n",
       "      (1): Dropout(p=0.05)\n",
       "      (2): Linear(in_features=1200, out_features=50, bias=True)\n",
       "      (3): ReLU(inplace)\n",
       "      (4): BatchNorm1d(50, eps=1e-05, momentum=0.1, affine=True, track_running_stats=True)\n",
       "      (5): Dropout(p=0.1)\n",
       "      (6): Linear(in_features=50, out_features=3, bias=True)\n",
       "    )\n",
       "  )\n",
       "), opt_func=functools.partial(<class 'torch.optim.adam.Adam'>, betas=(0.9, 0.99)), loss_func=FlattenedLoss of CrossEntropyLoss(), metrics=[<function accuracy at 0x7f02ec3914d0>], true_wd=True, bn_wd=True, wd=0.01, train_bn=True, path=PosixPath('/home/gaurav/PycharmProjects/nlp-for-malyalam/classification'), model_dir='models', callback_fns=[functools.partial(<class 'fastai.basic_train.Recorder'>, add_time=True, silent=False)], callbacks=[RNNTrainer\n",
       "learn: ...\n",
       "alpha: 2.0\n",
       "beta: 1.0], layer_groups=[Sequential(\n",
       "  (0): Embedding(10000, 400, padding_idx=1)\n",
       "  (1): EmbeddingDropout(\n",
       "    (emb): Embedding(10000, 400, padding_idx=1)\n",
       "  )\n",
       "), Sequential(\n",
       "  (0): WeightDropout(\n",
       "    (module): LSTM(400, 1150, batch_first=True)\n",
       "  )\n",
       "  (1): RNNDropout()\n",
       "), Sequential(\n",
       "  (0): WeightDropout(\n",
       "    (module): LSTM(1150, 1150, batch_first=True)\n",
       "  )\n",
       "  (1): RNNDropout()\n",
       "), Sequential(\n",
       "  (0): WeightDropout(\n",
       "    (module): LSTM(1150, 400, batch_first=True)\n",
       "  )\n",
       "  (1): RNNDropout()\n",
       "), Sequential(\n",
       "  (0): PoolingLinearClassifier(\n",
       "    (layers): Sequential(\n",
       "      (0): BatchNorm1d(1200, eps=1e-05, momentum=0.1, affine=True, track_running_stats=True)\n",
       "      (1): Dropout(p=0.05)\n",
       "      (2): Linear(in_features=1200, out_features=50, bias=True)\n",
       "      (3): ReLU(inplace)\n",
       "      (4): BatchNorm1d(50, eps=1e-05, momentum=0.1, affine=True, track_running_stats=True)\n",
       "      (5): Dropout(p=0.1)\n",
       "      (6): Linear(in_features=50, out_features=3, bias=True)\n",
       "    )\n",
       "  )\n",
       ")], add_time=True, silent=False, cb_fns_registered=False)"
      ]
     },
     "execution_count": 41,
     "metadata": {},
     "output_type": "execute_result"
    }
   ],
   "source": [
    "learn.load_encoder('fine_tuned_enc')"
   ]
  },
  {
   "cell_type": "code",
   "execution_count": 42,
   "metadata": {},
   "outputs": [],
   "source": [
    "learn.freeze()"
   ]
  },
  {
   "cell_type": "code",
   "execution_count": 43,
   "metadata": {},
   "outputs": [
    {
     "data": {
      "text/html": [],
      "text/plain": [
       "<IPython.core.display.HTML object>"
      ]
     },
     "metadata": {},
     "output_type": "display_data"
    },
    {
     "name": "stdout",
     "output_type": "stream",
     "text": [
      "LR Finder is complete, type {learner_name}.recorder.plot() to see the graph.\n"
     ]
    }
   ],
   "source": [
    "learn.lr_find()"
   ]
  },
  {
   "cell_type": "code",
   "execution_count": 44,
   "metadata": {},
   "outputs": [
    {
     "data": {
      "image/png": "[encoded data removed]",
      "text/plain": [
       "<Figure size 432x288 with 1 Axes>"
      ]
     },
     "metadata": {
      "needs_background": "light"
     },
     "output_type": "display_data"
    }
   ],
   "source": [
    "learn.recorder.plot()"
   ]
  },
  {
   "cell_type": "code",
   "execution_count": 45,
   "metadata": {},
   "outputs": [
    {
     "data": {
      "text/plain": [
       "CrossEntropyLoss()"
      ]
     },
     "execution_count": 45,
     "metadata": {},
     "output_type": "execute_result"
    }
   ],
   "source": [
    "learn.loss_func.func"
   ]
  },
  {
   "cell_type": "code",
   "execution_count": 46,
   "metadata": {},
   "outputs": [],
   "source": [
    "kappa = KappaScore()"
   ]
  },
  {
   "cell_type": "code",
   "execution_count": 47,
   "metadata": {},
   "outputs": [],
   "source": [
    "learn.metrics = [kappa, accuracy]"
   ]
  },
  {
   "cell_type": "code",
   "execution_count": 48,
   "metadata": {},
   "outputs": [
    {
     "data": {
      "text/html": [
       "<table border=\"1\" class=\"dataframe\">\n",
       "  <thead>\n",
       "    <tr style=\"text-align: left;\">\n",
       "      <th>epoch</th>\n",
       "      <th>train_loss</th>\n",
       "      <th>valid_loss</th>\n",
       "      <th>kappa_score</th>\n",
       "      <th>accuracy</th>\n",
       "      <th>time</th>\n",
       "    </tr>\n",
       "  </thead>\n",
       "  <tbody>\n",
       "    <tr>\n",
       "      <td>0</td>\n",
       "      <td>0.508436</td>\n",
       "      <td>0.399190</td>\n",
       "      <td>0.782978</td>\n",
       "      <td>0.855556</td>\n",
       "      <td>00:08</td>\n",
       "    </tr>\n",
       "  </tbody>\n",
       "</table>"
      ],
      "text/plain": [
       "<IPython.core.display.HTML object>"
      ]
     },
     "metadata": {},
     "output_type": "display_data"
    }
   ],
   "source": [
    "learn.fit_one_cycle(1, 1e-2)"
   ]
  },
  {
   "cell_type": "code",
   "execution_count": 49,
   "metadata": {},
   "outputs": [
    {
     "data": {
      "text/html": [
       "<table border=\"1\" class=\"dataframe\">\n",
       "  <thead>\n",
       "    <tr style=\"text-align: left;\">\n",
       "      <th>epoch</th>\n",
       "      <th>train_loss</th>\n",
       "      <th>valid_loss</th>\n",
       "      <th>kappa_score</th>\n",
       "      <th>accuracy</th>\n",
       "      <th>time</th>\n",
       "    </tr>\n",
       "  </thead>\n",
       "  <tbody>\n",
       "    <tr>\n",
       "      <td>0</td>\n",
       "      <td>0.317450</td>\n",
       "      <td>0.255459</td>\n",
       "      <td>0.868802</td>\n",
       "      <td>0.912698</td>\n",
       "      <td>00:09</td>\n",
       "    </tr>\n",
       "  </tbody>\n",
       "</table>"
      ],
      "text/plain": [
       "<IPython.core.display.HTML object>"
      ]
     },
     "metadata": {},
     "output_type": "display_data"
    }
   ],
   "source": [
    "learn.freeze_to(-2)\n",
    "learn.fit_one_cycle(1, 1e-2)"
   ]
  },
  {
   "cell_type": "code",
   "execution_count": 50,
   "metadata": {},
   "outputs": [],
   "source": [
    "learn.save('second-full')"
   ]
  },
  {
   "cell_type": "code",
   "execution_count": 51,
   "metadata": {},
   "outputs": [
    {
     "data": {
      "text/html": [
       "<table border=\"1\" class=\"dataframe\">\n",
       "  <thead>\n",
       "    <tr style=\"text-align: left;\">\n",
       "      <th>epoch</th>\n",
       "      <th>train_loss</th>\n",
       "      <th>valid_loss</th>\n",
       "      <th>kappa_score</th>\n",
       "      <th>accuracy</th>\n",
       "      <th>time</th>\n",
       "    </tr>\n",
       "  </thead>\n",
       "  <tbody>\n",
       "    <tr>\n",
       "      <td>0</td>\n",
       "      <td>0.197420</td>\n",
       "      <td>0.219929</td>\n",
       "      <td>0.893986</td>\n",
       "      <td>0.929365</td>\n",
       "      <td>00:14</td>\n",
       "    </tr>\n",
       "    <tr>\n",
       "      <td>1</td>\n",
       "      <td>0.141480</td>\n",
       "      <td>0.223078</td>\n",
       "      <td>0.898830</td>\n",
       "      <td>0.932540</td>\n",
       "      <td>00:14</td>\n",
       "    </tr>\n",
       "    <tr>\n",
       "      <td>2</td>\n",
       "      <td>0.100687</td>\n",
       "      <td>0.201666</td>\n",
       "      <td>0.905913</td>\n",
       "      <td>0.937302</td>\n",
       "      <td>00:14</td>\n",
       "    </tr>\n",
       "    <tr>\n",
       "      <td>3</td>\n",
       "      <td>0.069161</td>\n",
       "      <td>0.193449</td>\n",
       "      <td>0.909454</td>\n",
       "      <td>0.939683</td>\n",
       "      <td>00:15</td>\n",
       "    </tr>\n",
       "    <tr>\n",
       "      <td>4</td>\n",
       "      <td>0.038464</td>\n",
       "      <td>0.193119</td>\n",
       "      <td>0.915401</td>\n",
       "      <td>0.943651</td>\n",
       "      <td>00:14</td>\n",
       "    </tr>\n",
       "  </tbody>\n",
       "</table>"
      ],
      "text/plain": [
       "<IPython.core.display.HTML object>"
      ]
     },
     "metadata": {},
     "output_type": "display_data"
    },
    {
     "name": "stdout",
     "output_type": "stream",
     "text": [
      "Better model found at epoch 0 with accuracy value: 0.9293650984764099.\n",
      "Better model found at epoch 1 with accuracy value: 0.932539701461792.\n",
      "Better model found at epoch 2 with accuracy value: 0.9373015761375427.\n",
      "Better model found at epoch 3 with accuracy value: 0.9396825432777405.\n",
      "Better model found at epoch 4 with accuracy value: 0.9436507821083069.\n"
     ]
    }
   ],
   "source": [
    "learn.unfreeze()\n",
    "learn.fit_one_cycle(5, 1e-3, callbacks=[callbacks.SaveModelCallback(learn, every='improvement', monitor='accuracy', name='final')])"
   ]
  },
  {
   "cell_type": "code",
   "execution_count": 52,
   "metadata": {},
   "outputs": [
    {
     "data": {
      "text/plain": [
       "(Category sports, tensor(2), tensor([0.0042, 0.0322, 0.9636]))"
      ]
     },
     "execution_count": 52,
     "metadata": {},
     "output_type": "execute_result"
    }
   ],
   "source": [
    "learn.predict('ന്യൂഡല്‍ഹി: വിക്കറ്റിന് പിറകിൽ എം.എസ്. ധോനിയുടെ പിന്‍ഗാമിയായി സെലക്ടര്‍മാര്‍ ഉയര്‍ത്തിക്കാട്ടിയ താരമായിരുന്നു ഋഷഭ് ')"
   ]
  },
  {
   "cell_type": "code",
   "execution_count": 53,
   "metadata": {},
   "outputs": [
    {
     "data": {
      "text/plain": [
       "(Category sports, tensor(2), tensor([0.0302, 0.0074, 0.9623]))"
      ]
     },
     "execution_count": 53,
     "metadata": {},
     "output_type": "execute_result"
    }
   ],
   "source": [
    "learn.predict(\"കോഴിക്കോട്: ഏറെ പ്രതീക്ഷയോടെ ഐ ലീഗ് സീസണിന് ഇറങ്ങിയ ഗോകുലം കേരള എഫ്.സിക്ക് ഒടുവില്‍ നിരാശയായിരുന്നു\")"
   ]
  },
  {
   "cell_type": "code",
   "execution_count": 54,
   "metadata": {},
   "outputs": [
    {
     "data": {
      "text/plain": [
       "(Category entertainment, tensor(1), tensor([0.0039, 0.8278, 0.1683]))"
      ]
     },
     "execution_count": 54,
     "metadata": {},
     "output_type": "execute_result"
    }
   ],
   "source": [
    "learn.predict(\"ഒരൊറ്റ സീന്‍. ഒരൊറ്റ ഡയലോഗ്. ഇരിങ്ങാലക്കുടയ്ക്കപ്പുറത്ത് ഏറെയൊന്നും അറിയപ്പെടാതിരുന്ന ആളൂര്‍\")"
   ]
  },
  {
   "cell_type": "code",
   "execution_count": 55,
   "metadata": {},
   "outputs": [
    {
     "data": {
      "text/plain": [
       "(Category entertainment, tensor(1), tensor([0.0271, 0.9367, 0.0362]))"
      ]
     },
     "execution_count": 55,
     "metadata": {},
     "output_type": "execute_result"
    }
   ],
   "source": [
    "learn.predict(\"ബിഗ് ബോസ് എന്ന റിയാലിറ്റി ഷോയിലൂടെ മലയാളികളുടെ പ്രിയങ്കരനായി മാറിയ ടെലിവിഷന്‍ താരമാണ് ഷിയാസ് \")"
   ]
  },
  {
   "cell_type": "code",
   "execution_count": 56,
   "metadata": {},
   "outputs": [
    {
     "data": {
      "text/plain": [
       "(Category business, tensor(0), tensor([0.9876, 0.0059, 0.0065]))"
      ]
     },
     "execution_count": 56,
     "metadata": {},
     "output_type": "execute_result"
    }
   ],
   "source": [
    "learn.predict(\"ന്യൂഡല്‍ഹി: തിരഞ്ഞെടുപ്പിന് മാസങ്ങൾമാത്രം ശേഷിക്കെ മോദി സർക്കാരിന്റെ അഞ്ചുവർഷത്തെ നേട്ടങ്ങൾ\")"
   ]
  },
  {
   "cell_type": "code",
   "execution_count": null,
   "metadata": {},
   "outputs": [],
   "source": []
  }
 ],
 "metadata": {
  "kernelspec": {
   "display_name": "Python 3",
   "language": "python",
   "name": "python3"
  },
  "language_info": {
   "codemirror_mode": {
    "name": "ipython",
    "version": 3
   },
   "file_extension": ".py",
   "mimetype": "text/x-python",
   "name": "python",
   "nbconvert_exporter": "python",
   "pygments_lexer": "ipython3",
   "version": "3.7.4"
  }
 },
 "nbformat": 4,
 "nbformat_minor": 2
}
