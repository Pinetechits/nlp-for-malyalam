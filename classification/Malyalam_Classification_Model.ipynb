{
 "cells": [
  {
   "cell_type": "code",
   "execution_count": 1,
   "metadata": {},
   "outputs": [],
   "source": [
    "from fastai.text import *\n",
    "import numpy as np\n",
    "from sklearn.model_selection import train_test_split\n",
    "import pickle\n",
    "import sentencepiece as spm\n",
    "import re\n",
    "import pdb"
   ]
  },
  {
   "cell_type": "code",
   "execution_count": 2,
   "metadata": {},
   "outputs": [
    {
     "data": {
      "text/plain": [
       "('1.0.40', '1.0.0')"
      ]
     },
     "execution_count": 2,
     "metadata": {},
     "output_type": "execute_result"
    }
   ],
   "source": [
    "import fastai, torch\n",
    "fastai.__version__ , torch.__version__"
   ]
  },
  {
   "cell_type": "code",
   "execution_count": 3,
   "metadata": {},
   "outputs": [],
   "source": [
    "torch.cuda.set_device(0)"
   ]
  },
  {
   "cell_type": "code",
   "execution_count": 4,
   "metadata": {},
   "outputs": [
    {
     "name": "stdout",
     "output_type": "stream",
     "text": [
      "/home/gaurav/PycharmProjects/nlp-for-malyalam/classification\r\n"
     ]
    }
   ],
   "source": [
    "!pwd"
   ]
  },
  {
   "cell_type": "code",
   "execution_count": 5,
   "metadata": {},
   "outputs": [],
   "source": [
    "path = Path('/home/gaurav/PycharmProjects/nlp-for-malyalam/classification')"
   ]
  },
  {
   "cell_type": "code",
   "execution_count": 6,
   "metadata": {},
   "outputs": [
    {
     "name": "stdout",
     "output_type": "stream",
     "text": [
      "Malyalam_Classification_Model.ipynb  Malyalam_News_Classification.csv\r\n"
     ]
    }
   ],
   "source": [
    "!ls"
   ]
  },
  {
   "cell_type": "code",
   "execution_count": 7,
   "metadata": {},
   "outputs": [
    {
     "data": {
      "text/html": [
       "<div>\n",
       "<style scoped>\n",
       "    .dataframe tbody tr th:only-of-type {\n",
       "        vertical-align: middle;\n",
       "    }\n",
       "\n",
       "    .dataframe tbody tr th {\n",
       "        vertical-align: top;\n",
       "    }\n",
       "\n",
       "    .dataframe thead th {\n",
       "        text-align: right;\n",
       "    }\n",
       "</style>\n",
       "<table border=\"1\" class=\"dataframe\">\n",
       "  <thead>\n",
       "    <tr style=\"text-align: right;\">\n",
       "      <th></th>\n",
       "      <th>headings</th>\n",
       "      <th>label</th>\n",
       "    </tr>\n",
       "  </thead>\n",
       "  <tbody>\n",
       "    <tr>\n",
       "      <th>6291</th>\n",
       "      <td>മെസിയെ ഫൗള്‍ ചെയ്യരുത്, ഫോട്ടോ എടുക്കരുത്: വിച...</td>\n",
       "      <td>sports</td>\n",
       "    </tr>\n",
       "    <tr>\n",
       "      <th>6292</th>\n",
       "      <td>സൂപ്പര്‍ താരത്തെ പുറത്താക്കി ലോക കപ്പ് ടീം, അമ...</td>\n",
       "      <td>sports</td>\n",
       "    </tr>\n",
       "    <tr>\n",
       "      <th>6293</th>\n",
       "      <td>സഹതാരങ്ങള്‍ക്ക് വീട്ടില്‍ വിരുന്നൊരുക്കി മുന്‍...</td>\n",
       "      <td>sports</td>\n",
       "    </tr>\n",
       "    <tr>\n",
       "      <th>6294</th>\n",
       "      <td>ധവാന്‍ രഞ്ജി കളിക്കണമായിരുന്നു; ടി20ക്ക് ശേഷം ...</td>\n",
       "      <td>sports</td>\n",
       "    </tr>\n",
       "    <tr>\n",
       "      <th>6295</th>\n",
       "      <td>എടിപി മാസ്റ്റേഴ്‌സ് ടൂര്‍ണമെന്റില്‍ ഇന്ത്യന്‍ ...</td>\n",
       "      <td>sports</td>\n",
       "    </tr>\n",
       "  </tbody>\n",
       "</table>\n",
       "</div>"
      ],
      "text/plain": [
       "                                               headings   label\n",
       "6291  മെസിയെ ഫൗള്‍ ചെയ്യരുത്, ഫോട്ടോ എടുക്കരുത്: വിച...  sports\n",
       "6292  സൂപ്പര്‍ താരത്തെ പുറത്താക്കി ലോക കപ്പ് ടീം, അമ...  sports\n",
       "6293  സഹതാരങ്ങള്‍ക്ക് വീട്ടില്‍ വിരുന്നൊരുക്കി മുന്‍...  sports\n",
       "6294  ധവാന്‍ രഞ്ജി കളിക്കണമായിരുന്നു; ടി20ക്ക് ശേഷം ...  sports\n",
       "6295  എടിപി മാസ്റ്റേഴ്‌സ് ടൂര്‍ണമെന്റില്‍ ഇന്ത്യന്‍ ...  sports"
      ]
     },
     "execution_count": 7,
     "metadata": {},
     "output_type": "execute_result"
    }
   ],
   "source": [
    "df = pd.read_csv(path/'Malyalam_News_Classification.csv')\n",
    "df.tail()"
   ]
  },
  {
   "cell_type": "code",
   "execution_count": 8,
   "metadata": {},
   "outputs": [
    {
     "data": {
      "text/plain": [
       "array(['entertainment', 'business', 'sports'], dtype=object)"
      ]
     },
     "execution_count": 8,
     "metadata": {},
     "output_type": "execute_result"
    }
   ],
   "source": [
    "df['label'].unique()"
   ]
  },
  {
   "cell_type": "code",
   "execution_count": 9,
   "metadata": {},
   "outputs": [
    {
     "name": "stdout",
     "output_type": "stream",
     "text": [
      "Entertainment 2184\n",
      "Business 1923\n",
      "Sports 2189\n"
     ]
    }
   ],
   "source": [
    "print('Entertainment', (df['label'] == 'entertainment').sum())\n",
    "print('Business', (df['label'] == 'business').sum())\n",
    "print('Sports', (df['label'] == 'sports').sum())"
   ]
  },
  {
   "cell_type": "code",
   "execution_count": 10,
   "metadata": {},
   "outputs": [
    {
     "data": {
      "text/plain": [
       "'കഷ്ടപ്പെട്ട് ജോലിയെടുക്കില്ല, ശരിക്കും മടിയന്\\u200d : സത്യം മറച്ചുവയ്ക്കാതെ രണ്\\u200dവീര്\\u200d സിംഗ്'"
      ]
     },
     "execution_count": 10,
     "metadata": {},
     "output_type": "execute_result"
    }
   ],
   "source": [
    "df['headings'][0]"
   ]
  },
  {
   "cell_type": "code",
   "execution_count": 11,
   "metadata": {},
   "outputs": [
    {
     "data": {
      "text/plain": [
       "(6296, 2)"
      ]
     },
     "execution_count": 11,
     "metadata": {},
     "output_type": "execute_result"
    }
   ],
   "source": [
    "df.shape"
   ]
  },
  {
   "cell_type": "code",
   "execution_count": 13,
   "metadata": {},
   "outputs": [
    {
     "data": {
      "text/plain": [
       "(0, 2)"
      ]
     },
     "execution_count": 13,
     "metadata": {},
     "output_type": "execute_result"
    }
   ],
   "source": [
    "df[df['headings'].isnull()].shape"
   ]
  },
  {
   "cell_type": "code",
   "execution_count": 14,
   "metadata": {},
   "outputs": [],
   "source": [
    "label_cols = list(range(1,df.shape[1]))"
   ]
  },
  {
   "cell_type": "code",
   "execution_count": 15,
   "metadata": {},
   "outputs": [
    {
     "name": "stdout",
     "output_type": "stream",
     "text": [
      "[1]\n"
     ]
    }
   ],
   "source": [
    "print(label_cols)"
   ]
  },
  {
   "cell_type": "code",
   "execution_count": 16,
   "metadata": {},
   "outputs": [],
   "source": [
    "id_to_col = list(df.columns)"
   ]
  },
  {
   "cell_type": "code",
   "execution_count": 17,
   "metadata": {},
   "outputs": [],
   "source": [
    "col_to_id = {}\n",
    "for i, col in enumerate(id_to_col):\n",
    "    col_to_id[col] = i"
   ]
  },
  {
   "cell_type": "code",
   "execution_count": 18,
   "metadata": {},
   "outputs": [],
   "source": [
    "class MalyalamTokenizer(BaseTokenizer):\n",
    "    def __init__(self, lang:str):\n",
    "        self.lang = lang\n",
    "        self.sp = spm.SentencePieceProcessor()\n",
    "        self.sp.Load(str(path/\"../tokenizer/malyalam_lm.model\"))\n",
    "        \n",
    "    def tokenizer(self, t:str) -> List[str]:\n",
    "        return self.sp.EncodeAsPieces(t)"
   ]
  },
  {
   "cell_type": "code",
   "execution_count": 19,
   "metadata": {},
   "outputs": [],
   "source": [
    "sp = spm.SentencePieceProcessor()\n",
    "sp.Load(str(path/\"../tokenizer/malyalam_lm.model\"))\n",
    "itos = [sp.IdToPiece(int(i)) for i in range(10000)]"
   ]
  },
  {
   "cell_type": "code",
   "execution_count": 20,
   "metadata": {},
   "outputs": [],
   "source": [
    "# 10,000 is the vocab size that we chose in sentencepiece\n",
    "malyalam_vocab = Vocab(itos)"
   ]
  },
  {
   "cell_type": "code",
   "execution_count": 21,
   "metadata": {},
   "outputs": [],
   "source": [
    "tokenizer = Tokenizer(tok_func=MalyalamTokenizer, lang='ml')"
   ]
  },
  {
   "cell_type": "code",
   "execution_count": 22,
   "metadata": {},
   "outputs": [
    {
     "data": {
      "text/plain": [
       "['xxunk', 'xxpad', 'xxbos', 'xxfld', 'xxmaj', 'xxup', 'xxrep', 'xxwrep']"
      ]
     },
     "execution_count": 22,
     "metadata": {},
     "output_type": "execute_result"
    }
   ],
   "source": [
    "tokenizer.special_cases"
   ]
  },
  {
   "cell_type": "code",
   "execution_count": 23,
   "metadata": {},
   "outputs": [],
   "source": [
    "data_lm = TextDataBunch.from_csv(path=path, csv_name='Malyalam_News_Classification.csv', text_cols=[0], label_cols=label_cols, tokenizer=tokenizer, vocab=malyalam_vocab)"
   ]
  },
  {
   "cell_type": "code",
   "execution_count": 24,
   "metadata": {},
   "outputs": [],
   "source": [
    "data_lm.save()"
   ]
  },
  {
   "cell_type": "code",
   "execution_count": 25,
   "metadata": {},
   "outputs": [],
   "source": [
    "bs=48"
   ]
  },
  {
   "cell_type": "code",
   "execution_count": 26,
   "metadata": {},
   "outputs": [],
   "source": [
    "data_lm = TextLMDataBunch.load(path, 'tmp', bs=bs)"
   ]
  },
  {
   "cell_type": "code",
   "execution_count": 27,
   "metadata": {},
   "outputs": [
    {
     "data": {
      "text/html": [
       "<table>  <col width='5%'>  <col width='95%'>  <tr>\n",
       "    <th>idx</th>\n",
       "    <th>text</th>\n",
       "  </tr>\n",
       "  <tr>\n",
       "    <th>0</th>\n",
       "    <th>▁ x x bo s ▁മലയാള ികളായ ▁വിമാന യാത്ര ക്കാര ് ▁ ക്ക് ▁മാത്രം ▁ടി ക്ക റ്റ് ▁നിരക്ക ുകളില ് ▁വന ് ▁ഇള വ് ▁ x x bo s ▁എതിരാളി കളെ ▁ബഹു ദൂര ം ▁പിന്ന ില ാക്കി ▁മാ രു തി ▁സു സൂ ക്കി യുടെ ▁ബ്ര സ്സ ▁ x x bo s ▁നെയ് മ റിന് ▁പണി ▁കിട്ടിയ േ ക്കും ; ▁അന്വേഷണ ം ▁പ്രഖ്യാപിച്ച ് ▁യു വേ ഫ ▁ x x bo</th>\n",
       "  </tr>\n",
       "  <tr>\n",
       "    <th>1</th>\n",
       "    <th>് ▁ഘട്ട ത്തില ് ▁ x x bo s ▁ലോകകപ്പ ിനു ▁മു മ ് ബ് ▁അനുയോജ്യമായ ▁തുടക്കം : ▁ഓ യ ിന് ▁മോ ര ് ▁ഗ ന് ▁ x x bo s ▁അ ടിച്ചു ▁ത കര ് ▁ ത്ത് ▁ധ വ ാനും ▁ രോ ഹിത ും ; ▁നാലാം ▁ഏകദിന ത്തില ് ▁റ ണ് ▁മല ▁കയറി ▁ഇന്ത്യ ▁ x x bo s ▁സത്യ ങ്ങള ് ▁ഞാ ന് ▁പറയ ാന ് ▁തുടങ്ങിയ ാല</th>\n",
       "  </tr>\n",
       "  <tr>\n",
       "    <th>2</th>\n",
       "    <th>▁നിര ് ▁ ണ ായ ക മാറ്റ ത്തിന് ▁സാധ്യത യേ റി ▁ x x bo s ▁നാലു മാസ ത്തെ ▁ഇടവേള യ്ക്ക് ▁ശേഷം ▁പാര ് ▁വ തി ▁തിരിച്ച െത്തി <unk> ▁ x x bo s ▁ചാര ു ഹാ സ ന് ▁ചിത്രം ▁പൗ ഡ റിന്റെ ▁പുതിയ ▁പോ സ്റ്റ ര ് ▁പുറത്തു വിട്ടു ▁ x x bo s ▁ഡൈ നാ മോ ▁കീ വിനെ ▁ത കര ് ▁ ത്ത് ▁ചെ ല് ▁സി ▁യൂറോപ്പ ▁ലീഗ്</th>\n",
       "  </tr>\n",
       "  <tr>\n",
       "    <th>3</th>\n",
       "    <th>് ▁മൂന്നാം ▁ദിവസവും ▁നേട്ട ത്തില ് ▁ക്ലോ സ് ▁ചെയ്തു ▁ x x bo s ▁ഫിഫ ാ ▁മ ഞ്ചേരി ▁സൂ പ്പ ര ് ▁സ്റ്റുഡിയോ ▁പോരാട്ട ം ▁സമ നില യില ് ▁ x x bo s ▁ആ ഡ ംബ ര ▁വിവാഹ ത്തില ് ▁തി ള ങ്ങിയ ത് ▁താര സുന്ദര ി മാര ് ▁ <unk> ▁ഐശ്വര്യ , ▁ദീപ ിക , ▁കര ീന ▁എല്ലാവരും ▁ലു ക്ക് ▁കിട ില നാക്കി <unk> ▁ x x bo</th>\n",
       "  </tr>\n",
       "  <tr>\n",
       "    <th>4</th>\n",
       "    <th>റിന്റെ ▁ബോളിവുഡ ് ▁ചിത്രം ▁സോ യ ▁ഫാ ക് റ്റ ര ് ▁ജൂ ണ് ▁14 ▁ന് ▁തിയേറ്ററ ുകളില ് ▁ x x bo s ▁ശ്രീശാന്ത ിന്റെ ▁വിലക്ക ് ▁നീക്കി ▁ ; ▁താര ത്തിന് ▁ഇനി ▁കളി ക്കാ ം ▁ x x bo s ▁ഫ െല്ലി നി ▁ഇനി ▁ബെ ല് ▁ ജിയ ത്തിനായി ▁കളി ക്ക ില്ല , ▁രാജ്യാന്തര ▁ഫുട്ബോള ില ് ▁നിന്ന് ▁വിരമിച്ച ു ▁ x x bo s ▁ആദ്യ ▁അഡ്വ ഞ്ച ര</th>\n",
       "  </tr>\n",
       "</table>\n"
      ],
      "text/plain": [
       "<IPython.core.display.HTML object>"
      ]
     },
     "metadata": {},
     "output_type": "display_data"
    }
   ],
   "source": [
    "data_lm.show_batch()"
   ]
  },
  {
   "cell_type": "code",
   "execution_count": 28,
   "metadata": {},
   "outputs": [],
   "source": [
    "learn = language_model_learner(data_lm, drop_mult=0.3)"
   ]
  },
  {
   "cell_type": "code",
   "execution_count": 29,
   "metadata": {},
   "outputs": [
    {
     "data": {
      "text/plain": [
       "LanguageLearner(data=TextLMDataBunch;\n",
       "\n",
       "Train: LabelList\n",
       "y: LMLabel (5036 items)\n",
       "[Category 0, Category 0, Category 0, Category 0, Category 0]...\n",
       "Path: /home/gaurav/PycharmProjects/nlp-for-malyalam/classification\n",
       "x: LMTextList (5036 items)\n",
       "[Text ▁ x x bo s ▁മോഹ ന് ▁ലാ ല ിനു ▁വേണ്ടി ▁ലൂ സി ഫ ര ് ▁ആ ന്ത വുമായി ▁ഉ ഷ ▁ഉ തു പ്പ് <unk> ▁ചിത്രം ▁പങ്കു വെച്ച ് ▁മു ര ളി ▁ഗോപി, Text ▁ x x bo s ▁മോഹ ന് ▁ലാ ല് ▁ചിത്രം ▁ലൂ സി ഫ റി ല് ▁പ്രമുഖ നായി ▁ലാ ന് ▁ ഡ് ▁മാ സ്റ്റ ര ് ▁കാര ്, Text ▁ x x bo s ▁ഗോള ് ▁വേട്ട യുമായി ▁വീണ്ടും ▁ബല ോട്ട െല്ലി ; ▁ആരാധക ര ് ▁ആവേശ ത്തില ്, Text ▁ x x bo s ▁പ്ര വാസി ▁നിക്ഷേപ ങ്ങളെ ▁കേരള ത്തിലേക്ക് ▁ആ കര ് ▁ഷി ക്കാന ് ▁പുതിയ ▁സംവിധാന വുമായി ▁നോ ര ് ▁ ക്ക, Text ▁ x x bo s ▁കനത്ത ▁ചൂട ില ് ▁നാട ു ▁വലയ ുമ ് ബോ ള ് ▁സൗര ോ ര ് ▁ ജ്ജ ത്തിലൂടെ ▁നേട്ട മ ുണ്ടാക്കി ▁എം ജി ▁സര ് ▁വ കലാ ശാല]...\n",
       "Path: /home/gaurav/PycharmProjects/nlp-for-malyalam/classification;\n",
       "\n",
       "Valid: LabelList\n",
       "y: LMLabel (1260 items)\n",
       "[Category 0, Category 0, Category 0, Category 0, Category 0]...\n",
       "Path: /home/gaurav/PycharmProjects/nlp-for-malyalam/classification\n",
       "x: LMTextList (1260 items)\n",
       "[Text ▁ x x bo s ▁' ദേവി ▁2 ' ▁എന്ന ▁ചിത്രത്തിന്റെ ▁സംപ്രേഷണ ാവകാശ ം ▁സീ ▁തമിഴ ിന് ▁സ്വന്തമാക്കി, Text ▁ x x bo s ▁അനു സി ത്താ ര യെ ▁അമ ് ബല നട യില ് ▁വച്ച് ▁താ ലി ചാര ് ▁ ത്തി ▁ദിലീപ് , ▁ശുഭ രാ ത്രി ▁ചിത്ര ങ്ങള ് ▁വൈ റ ല്, Text ▁ x x bo s ▁കോ ഹ് ലി <unk> സെ ഞ്ച് വ റി ▁ന മ ് ബ ര ് ▁ 41 ; ▁റാ ഞ്ചി ▁ഏകദിന ത്തില ് ▁ഇന്ത്യ ▁പൊ രുത ുന്നു, Text ▁ x x bo s ▁പു ജാ ര യ്ക്ക് ▁എ ▁പ്ല സ് ▁കരാറ ില്ല ▁ ; ▁കാരണം ▁ഇതാണ് ., Text ▁ x x bo s ▁വ്യോമ യാന ▁മേഖല ▁കടുത്ത ▁പ്രതിസന്ധി യിലേക്ക് ; ▁അവധി ക്കാലം ▁വര ാന ിരിക്ക േ ▁ആഭ്യന്തര ▁വിമാന ടി ക്ക റ്റ് ▁നിരക്ക് ▁20 ▁ശതമാനം ▁കൂടിയ േ ക്ക ുമെന്ന് ▁റി പ്പോ ര ് ▁ ട്ട്]...\n",
       "Path: /home/gaurav/PycharmProjects/nlp-for-malyalam/classification;\n",
       "\n",
       "Test: None, model=SequentialRNN(\n",
       "  (0): RNNCore(\n",
       "    (encoder): Embedding(10000, 400, padding_idx=1)\n",
       "    (encoder_dp): EmbeddingDropout(\n",
       "      (emb): Embedding(10000, 400, padding_idx=1)\n",
       "    )\n",
       "    (rnns): ModuleList(\n",
       "      (0): WeightDropout(\n",
       "        (module): LSTM(400, 1150, batch_first=True)\n",
       "      )\n",
       "      (1): WeightDropout(\n",
       "        (module): LSTM(1150, 1150, batch_first=True)\n",
       "      )\n",
       "      (2): WeightDropout(\n",
       "        (module): LSTM(1150, 400, batch_first=True)\n",
       "      )\n",
       "    )\n",
       "    (input_dp): RNNDropout()\n",
       "    (hidden_dps): ModuleList(\n",
       "      (0): RNNDropout()\n",
       "      (1): RNNDropout()\n",
       "      (2): RNNDropout()\n",
       "    )\n",
       "  )\n",
       "  (1): LinearDecoder(\n",
       "    (decoder): Linear(in_features=400, out_features=10000, bias=True)\n",
       "    (output_dp): RNNDropout()\n",
       "  )\n",
       "), opt_func=functools.partial(<class 'torch.optim.adam.Adam'>, betas=(0.9, 0.99)), loss_func=<fastai.layers.FlattenedLoss object at 0x7fb4311cd0b8>, metrics=[<function accuracy at 0x7fb439a0d598>], true_wd=True, bn_wd=True, wd=0.01, train_bn=True, path=PosixPath('/home/gaurav/PycharmProjects/nlp-for-malyalam/classification'), model_dir='models', callback_fns=[<class 'fastai.basic_train.Recorder'>], callbacks=[RNNTrainer\n",
       "learn: LanguageLearner(data=TextLMDataBunch;\n",
       "\n",
       "Train: LabelList\n",
       "y: LMLabel (5036 items)\n",
       "[Category 0, Category 0, Category 0, Category 0, Category 0]...\n",
       "Path: /home/gaurav/PycharmProjects/nlp-for-malyalam/classification\n",
       "x: LMTextList (5036 items)\n",
       "[Text ▁ x x bo s ▁മോഹ ന് ▁ലാ ല ിനു ▁വേണ്ടി ▁ലൂ സി ഫ ര ് ▁ആ ന്ത വുമായി ▁ഉ ഷ ▁ഉ തു പ്പ് <unk> ▁ചിത്രം ▁പങ്കു വെച്ച ് ▁മു ര ളി ▁ഗോപി, Text ▁ x x bo s ▁മോഹ ന് ▁ലാ ല് ▁ചിത്രം ▁ലൂ സി ഫ റി ല് ▁പ്രമുഖ നായി ▁ലാ ന് ▁ ഡ് ▁മാ സ്റ്റ ര ് ▁കാര ്, Text ▁ x x bo s ▁ഗോള ് ▁വേട്ട യുമായി ▁വീണ്ടും ▁ബല ോട്ട െല്ലി ; ▁ആരാധക ര ് ▁ആവേശ ത്തില ്, Text ▁ x x bo s ▁പ്ര വാസി ▁നിക്ഷേപ ങ്ങളെ ▁കേരള ത്തിലേക്ക് ▁ആ കര ് ▁ഷി ക്കാന ് ▁പുതിയ ▁സംവിധാന വുമായി ▁നോ ര ് ▁ ക്ക, Text ▁ x x bo s ▁കനത്ത ▁ചൂട ില ് ▁നാട ു ▁വലയ ുമ ് ബോ ള ് ▁സൗര ോ ര ് ▁ ജ്ജ ത്തിലൂടെ ▁നേട്ട മ ുണ്ടാക്കി ▁എം ജി ▁സര ് ▁വ കലാ ശാല]...\n",
       "Path: /home/gaurav/PycharmProjects/nlp-for-malyalam/classification;\n",
       "\n",
       "Valid: LabelList\n",
       "y: LMLabel (1260 items)\n",
       "[Category 0, Category 0, Category 0, Category 0, Category 0]...\n",
       "Path: /home/gaurav/PycharmProjects/nlp-for-malyalam/classification\n",
       "x: LMTextList (1260 items)\n",
       "[Text ▁ x x bo s ▁' ദേവി ▁2 ' ▁എന്ന ▁ചിത്രത്തിന്റെ ▁സംപ്രേഷണ ാവകാശ ം ▁സീ ▁തമിഴ ിന് ▁സ്വന്തമാക്കി, Text ▁ x x bo s ▁അനു സി ത്താ ര യെ ▁അമ ് ബല നട യില ് ▁വച്ച് ▁താ ലി ചാര ് ▁ ത്തി ▁ദിലീപ് , ▁ശുഭ രാ ത്രി ▁ചിത്ര ങ്ങള ് ▁വൈ റ ല്, Text ▁ x x bo s ▁കോ ഹ് ലി <unk> സെ ഞ്ച് വ റി ▁ന മ ് ബ ര ് ▁ 41 ; ▁റാ ഞ്ചി ▁ഏകദിന ത്തില ് ▁ഇന്ത്യ ▁പൊ രുത ുന്നു, Text ▁ x x bo s ▁പു ജാ ര യ്ക്ക് ▁എ ▁പ്ല സ് ▁കരാറ ില്ല ▁ ; ▁കാരണം ▁ഇതാണ് ., Text ▁ x x bo s ▁വ്യോമ യാന ▁മേഖല ▁കടുത്ത ▁പ്രതിസന്ധി യിലേക്ക് ; ▁അവധി ക്കാലം ▁വര ാന ിരിക്ക േ ▁ആഭ്യന്തര ▁വിമാന ടി ക്ക റ്റ് ▁നിരക്ക് ▁20 ▁ശതമാനം ▁കൂടിയ േ ക്ക ുമെന്ന് ▁റി പ്പോ ര ് ▁ ട്ട്]...\n",
       "Path: /home/gaurav/PycharmProjects/nlp-for-malyalam/classification;\n",
       "\n",
       "Test: None, model=SequentialRNN(\n",
       "  (0): RNNCore(\n",
       "    (encoder): Embedding(10000, 400, padding_idx=1)\n",
       "    (encoder_dp): EmbeddingDropout(\n",
       "      (emb): Embedding(10000, 400, padding_idx=1)\n",
       "    )\n",
       "    (rnns): ModuleList(\n",
       "      (0): WeightDropout(\n",
       "        (module): LSTM(400, 1150, batch_first=True)\n",
       "      )\n",
       "      (1): WeightDropout(\n",
       "        (module): LSTM(1150, 1150, batch_first=True)\n",
       "      )\n",
       "      (2): WeightDropout(\n",
       "        (module): LSTM(1150, 400, batch_first=True)\n",
       "      )\n",
       "    )\n",
       "    (input_dp): RNNDropout()\n",
       "    (hidden_dps): ModuleList(\n",
       "      (0): RNNDropout()\n",
       "      (1): RNNDropout()\n",
       "      (2): RNNDropout()\n",
       "    )\n",
       "  )\n",
       "  (1): LinearDecoder(\n",
       "    (decoder): Linear(in_features=400, out_features=10000, bias=True)\n",
       "    (output_dp): RNNDropout()\n",
       "  )\n",
       "), opt_func=functools.partial(<class 'torch.optim.adam.Adam'>, betas=(0.9, 0.99)), loss_func=<fastai.layers.FlattenedLoss object at 0x7fb4311cd0b8>, metrics=[<function accuracy at 0x7fb439a0d598>], true_wd=True, bn_wd=True, wd=0.01, train_bn=True, path=PosixPath('/home/gaurav/PycharmProjects/nlp-for-malyalam/classification'), model_dir='models', callback_fns=[<class 'fastai.basic_train.Recorder'>], callbacks=[...], layer_groups=[Sequential(\n",
       "  (0): WeightDropout(\n",
       "    (module): LSTM(400, 1150, batch_first=True)\n",
       "  )\n",
       "  (1): RNNDropout()\n",
       "), Sequential(\n",
       "  (0): WeightDropout(\n",
       "    (module): LSTM(1150, 1150, batch_first=True)\n",
       "  )\n",
       "  (1): RNNDropout()\n",
       "), Sequential(\n",
       "  (0): WeightDropout(\n",
       "    (module): LSTM(1150, 400, batch_first=True)\n",
       "  )\n",
       "  (1): RNNDropout()\n",
       "), Sequential(\n",
       "  (0): Embedding(10000, 400, padding_idx=1)\n",
       "  (1): EmbeddingDropout(\n",
       "    (emb): Embedding(10000, 400, padding_idx=1)\n",
       "  )\n",
       "  (2): LinearDecoder(\n",
       "    (decoder): Linear(in_features=400, out_features=10000, bias=True)\n",
       "    (output_dp): RNNDropout()\n",
       "  )\n",
       ")])\n",
       "bptt: 70\n",
       "alpha: 2.0\n",
       "beta: 1.0], layer_groups=[Sequential(\n",
       "  (0): WeightDropout(\n",
       "    (module): LSTM(400, 1150, batch_first=True)\n",
       "  )\n",
       "  (1): RNNDropout()\n",
       "), Sequential(\n",
       "  (0): WeightDropout(\n",
       "    (module): LSTM(1150, 1150, batch_first=True)\n",
       "  )\n",
       "  (1): RNNDropout()\n",
       "), Sequential(\n",
       "  (0): WeightDropout(\n",
       "    (module): LSTM(1150, 400, batch_first=True)\n",
       "  )\n",
       "  (1): RNNDropout()\n",
       "), Sequential(\n",
       "  (0): Embedding(10000, 400, padding_idx=1)\n",
       "  (1): EmbeddingDropout(\n",
       "    (emb): Embedding(10000, 400, padding_idx=1)\n",
       "  )\n",
       "  (2): LinearDecoder(\n",
       "    (decoder): Linear(in_features=400, out_features=10000, bias=True)\n",
       "    (output_dp): RNNDropout()\n",
       "  )\n",
       ")])"
      ]
     },
     "execution_count": 29,
     "metadata": {},
     "output_type": "execute_result"
    }
   ],
   "source": [
    "# Loading the pretrained language model on malyalam wikipedia\n",
    "learn.load('/home/gaurav/PycharmProjects/nlp-for-malyalam/language-model/MalyalamDataset/models/third_ml_lm', with_opt=True)"
   ]
  },
  {
   "cell_type": "code",
   "execution_count": 30,
   "metadata": {},
   "outputs": [],
   "source": [
    "# Fine tuning the prtrained LM on current dataset"
   ]
  },
  {
   "cell_type": "code",
   "execution_count": 31,
   "metadata": {},
   "outputs": [
    {
     "name": "stdout",
     "output_type": "stream",
     "text": [
      "LR Finder is complete, type {learner_name}.recorder.plot() to see the graph.\n"
     ]
    }
   ],
   "source": [
    "learn.lr_find()"
   ]
  },
  {
   "cell_type": "code",
   "execution_count": 32,
   "metadata": {},
   "outputs": [
    {
     "data": {
      "image/png": "[encoded data removed]",
      "text/plain": [
       "<Figure size 432x288 with 1 Axes>"
      ]
     },
     "metadata": {
      "needs_background": "light"
     },
     "output_type": "display_data"
    }
   ],
   "source": [
    "learn.recorder.plot()"
   ]
  },
  {
   "cell_type": "code",
   "execution_count": 33,
   "metadata": {},
   "outputs": [],
   "source": [
    "learn.freeze()"
   ]
  },
  {
   "cell_type": "code",
   "execution_count": 34,
   "metadata": {},
   "outputs": [
    {
     "data": {
      "text/html": [
       "Total time: 00:03 <p><table style='width:300px; margin-bottom:10px'>\n",
       "  <tr>\n",
       "    <th>epoch</th>\n",
       "    <th>train_loss</th>\n",
       "    <th>valid_loss</th>\n",
       "    <th>accuracy</th>\n",
       "  </tr>\n",
       "  <tr>\n",
       "    <th>1</th>\n",
       "    <th>4.892828</th>\n",
       "    <th>4.374544</th>\n",
       "    <th>0.337874</th>\n",
       "  </tr>\n",
       "</table>\n"
      ],
      "text/plain": [
       "<IPython.core.display.HTML object>"
      ]
     },
     "metadata": {},
     "output_type": "display_data"
    }
   ],
   "source": [
    "learn.fit_one_cycle(1, 1e-2, moms=(0.8,0.7))"
   ]
  },
  {
   "cell_type": "code",
   "execution_count": 35,
   "metadata": {},
   "outputs": [],
   "source": [
    "learn.save('fit_head', with_opt=True)"
   ]
  },
  {
   "cell_type": "code",
   "execution_count": 36,
   "metadata": {},
   "outputs": [],
   "source": [
    "learn.load('fit_head', with_opt=True);"
   ]
  },
  {
   "cell_type": "code",
   "execution_count": 37,
   "metadata": {},
   "outputs": [],
   "source": [
    "learn.unfreeze()"
   ]
  },
  {
   "cell_type": "code",
   "execution_count": 38,
   "metadata": {},
   "outputs": [
    {
     "data": {
      "text/html": [
       "Total time: 00:45 <p><table style='width:300px; margin-bottom:10px'>\n",
       "  <tr>\n",
       "    <th>epoch</th>\n",
       "    <th>train_loss</th>\n",
       "    <th>valid_loss</th>\n",
       "    <th>accuracy</th>\n",
       "  </tr>\n",
       "  <tr>\n",
       "    <th>1</th>\n",
       "    <th>4.277577</th>\n",
       "    <th>4.168032</th>\n",
       "    <th>0.356473</th>\n",
       "  </tr>\n",
       "  <tr>\n",
       "    <th>2</th>\n",
       "    <th>4.063316</th>\n",
       "    <th>3.839864</th>\n",
       "    <th>0.391461</th>\n",
       "  </tr>\n",
       "  <tr>\n",
       "    <th>3</th>\n",
       "    <th>3.790938</th>\n",
       "    <th>3.576284</th>\n",
       "    <th>0.424691</th>\n",
       "  </tr>\n",
       "  <tr>\n",
       "    <th>4</th>\n",
       "    <th>3.526112</th>\n",
       "    <th>3.406083</th>\n",
       "    <th>0.445782</th>\n",
       "  </tr>\n",
       "  <tr>\n",
       "    <th>5</th>\n",
       "    <th>3.289855</th>\n",
       "    <th>3.288762</th>\n",
       "    <th>0.463344</th>\n",
       "  </tr>\n",
       "  <tr>\n",
       "    <th>6</th>\n",
       "    <th>3.101046</th>\n",
       "    <th>3.212809</th>\n",
       "    <th>0.472700</th>\n",
       "  </tr>\n",
       "  <tr>\n",
       "    <th>7</th>\n",
       "    <th>2.934580</th>\n",
       "    <th>3.167746</th>\n",
       "    <th>0.479875</th>\n",
       "  </tr>\n",
       "  <tr>\n",
       "    <th>8</th>\n",
       "    <th>2.813470</th>\n",
       "    <th>3.145847</th>\n",
       "    <th>0.482080</th>\n",
       "  </tr>\n",
       "  <tr>\n",
       "    <th>9</th>\n",
       "    <th>2.732559</th>\n",
       "    <th>3.136381</th>\n",
       "    <th>0.484635</th>\n",
       "  </tr>\n",
       "  <tr>\n",
       "    <th>10</th>\n",
       "    <th>2.694386</th>\n",
       "    <th>3.134807</th>\n",
       "    <th>0.484459</th>\n",
       "  </tr>\n",
       "</table>\n"
      ],
      "text/plain": [
       "<IPython.core.display.HTML object>"
      ]
     },
     "metadata": {},
     "output_type": "display_data"
    }
   ],
   "source": [
    "learn.fit_one_cycle(10, 1e-3, moms=(0.8,0.7))"
   ]
  },
  {
   "cell_type": "code",
   "execution_count": 39,
   "metadata": {},
   "outputs": [],
   "source": [
    "learn.save('fine_tuned', with_opt=True)"
   ]
  },
  {
   "cell_type": "code",
   "execution_count": 40,
   "metadata": {},
   "outputs": [],
   "source": [
    "learn.load('fine_tuned', with_opt=True);"
   ]
  },
  {
   "cell_type": "code",
   "execution_count": 42,
   "metadata": {},
   "outputs": [
    {
     "data": {
      "text/plain": [
       "'മലയാള ികളായ ▁വിമാന യാത്ര ക്കാര ് ▁14 ▁കോടി ▁4 x x bo s ▁സാമ ▁'"
      ]
     },
     "execution_count": 42,
     "metadata": {},
     "output_type": "execute_result"
    }
   ],
   "source": [
    "learn.predict('മലയാള ികളായ ▁വിമാന യാത്ര ക്കാര',n_words=10)"
   ]
  },
  {
   "cell_type": "code",
   "execution_count": 44,
   "metadata": {},
   "outputs": [],
   "source": [
    "learn.save_encoder('fine_tuned_enc')"
   ]
  },
  {
   "cell_type": "code",
   "execution_count": 45,
   "metadata": {},
   "outputs": [],
   "source": [
    "data_clas = TextClasDataBunch.from_csv(path=path, csv_name='Malyalam_News_Classification.csv', tokenizer=tokenizer, vocab=malyalam_vocab, text_cols=[0], label_cols=label_cols)"
   ]
  },
  {
   "cell_type": "code",
   "execution_count": 46,
   "metadata": {},
   "outputs": [
    {
     "data": {
      "text/html": [
       "<table>  <col width='90%'>  <col width='10%'>  <tr>\n",
       "    <th>text</th>\n",
       "    <th>target</th>\n",
       "  </tr>\n",
       "  <tr>\n",
       "    <th>▁ x x bo s ▁ശ ▁ബ ▁ രി ▁മ ▁ല ▁വി ▁ക ▁സ ▁ന ത്തിനായി ▁സ ▁ര ് ▁ ക്കാ ▁ര ് ▁നി ▁യ ▁ന് ത്ര ▁ ണ ▁ ത്തി ▁ല ് ▁പ്ര ▁ ത് യേ ▁ക ▁ക ▁മ ് ബ ▁നി ▁ര ൂ ▁പീ ▁ക ▁ രി ▁ ക്കാ ▁ന് ▁തീ ▁ രു ▁മാ ▁ന ം ; ▁നടപടി ▁തീ ▁ x x re p ▁5 ▁ര ് ▁</th>\n",
       "    <th>business</th>\n",
       "  </tr>\n",
       "  <tr>\n",
       "    <th>▁ x x bo s ▁ഇന്ത്യ യില ് ▁റി ല യ ന് ▁സ് ▁ജി യോ യ്ക്ക് ▁പ്രത്യേക ▁പരിഗണന ▁ന ല് ▁കുന്ന വ െന്ന ▁ആരോപണ വുമായി ▁വോ ഡ ഫോ ണ് ▁മേധാവി ; ▁' പ ▁ x x re p ▁4 ▁ല ▁ടെ ▁ x x re p ▁4 ▁ലി ▁ x x re p ▁4 ▁കോ ം ▁നി ▁ x x re p ▁4 ▁യ ▁ x x re p ▁4</th>\n",
       "    <th>business</th>\n",
       "  </tr>\n",
       "  <tr>\n",
       "    <th>▁ x x bo s ▁കേ ▁ x x re p ▁4 ▁ ന്ദ്ര ▁ x x re p ▁4 ▁സ ▁ x x re p ▁4 ▁ര ് ▁ x x re p ▁4 ▁ ക്കാ ▁ x x re p ▁4 ▁ രി ▁ x x re p ▁4 ▁ന് ▁റെ ▁പു ▁ x x re p ▁4 ▁തി ▁ x x re p ▁4 ▁യ ▁റ ▁</th>\n",
       "    <th>business</th>\n",
       "  </tr>\n",
       "  <tr>\n",
       "    <th>▁ x x bo s ▁അ ങ്ങ േ ര ് ▁പാവ ം ▁മനുഷ്യ ന് ▁ ; ▁അ ങ്ങ േ രെ ▁കൊണ്ട ൊന്നും ▁ x x re p ▁6 ▁. ▁ഞാ ന് ▁വിശ്വസിക്ക ില്ല ; ▁അ ങ്ങ േ ര ് ▁ ക്ക് ▁അത ൊന്നും ▁പറ്റി ല്ലാ ന്ന ുള്ള താണ് ; ▁ഇന ് ▁ഡ സ് ട്രി ▁മുഴുവനും ▁അറിയ ാവുന്ന ▁കാര്യ മാണ ത് ; ▁അ പ്പോ ▁ന മ്മ ളി ത ൊക്കെ ▁എ ങ്ങ</th>\n",
       "    <th>entertainment</th>\n",
       "  </tr>\n",
       "  <tr>\n",
       "    <th>▁ x x bo s ▁സ്വ ന്ത ക്കാര നെ ▁ഗവ ര ് ▁ ണ റ ാക്കിയ ത് ▁വെ റു തേ യായ ില്ല ; ▁വര ് ▁ഷ ം ▁അവസാന ി ക്കാന ് ▁കാത്തിരിക്ക ാതെ ▁28 ,000 ▁കോടി ▁കേന്ദ്ര ▁സര ് ▁ ക്കാര ിന് ▁ഇട ക്കാല ▁ലാഭ വി ഹിത മായി ▁ന ല് ▁കി ▁റിസ ര ് ▁വ ് ▁ബാങ്ക് ; ▁ആഗ സ്റ്റ ില ് ▁4 0,000 ▁കോടി ▁ന ല് ▁ക ിയ തിന്</th>\n",
       "    <th>business</th>\n",
       "  </tr>\n",
       "</table>\n"
      ],
      "text/plain": [
       "<IPython.core.display.HTML object>"
      ]
     },
     "metadata": {},
     "output_type": "display_data"
    }
   ],
   "source": [
    "data_clas.show_batch()"
   ]
  },
  {
   "cell_type": "code",
   "execution_count": 47,
   "metadata": {},
   "outputs": [],
   "source": [
    "data_clas.sanity_check()"
   ]
  },
  {
   "cell_type": "code",
   "execution_count": 48,
   "metadata": {},
   "outputs": [],
   "source": [
    "learn = text_classifier_learner(data_clas, drop_mult=0.5)"
   ]
  },
  {
   "cell_type": "code",
   "execution_count": 49,
   "metadata": {},
   "outputs": [],
   "source": [
    "learn.load_encoder('fine_tuned_enc')"
   ]
  },
  {
   "cell_type": "code",
   "execution_count": 50,
   "metadata": {},
   "outputs": [],
   "source": [
    "learn.freeze()"
   ]
  },
  {
   "cell_type": "code",
   "execution_count": 51,
   "metadata": {},
   "outputs": [
    {
     "name": "stdout",
     "output_type": "stream",
     "text": [
      "LR Finder is complete, type {learner_name}.recorder.plot() to see the graph.\n"
     ]
    }
   ],
   "source": [
    "learn.lr_find()"
   ]
  },
  {
   "cell_type": "code",
   "execution_count": 52,
   "metadata": {},
   "outputs": [
    {
     "data": {
      "image/png": "[encoded data removed]",
      "text/plain": [
       "<Figure size 432x288 with 1 Axes>"
      ]
     },
     "metadata": {
      "needs_background": "light"
     },
     "output_type": "display_data"
    }
   ],
   "source": [
    "learn.recorder.plot()"
   ]
  },
  {
   "cell_type": "code",
   "execution_count": 53,
   "metadata": {},
   "outputs": [
    {
     "data": {
      "text/plain": [
       "CrossEntropyLoss()"
      ]
     },
     "execution_count": 53,
     "metadata": {},
     "output_type": "execute_result"
    }
   ],
   "source": [
    "learn.loss_func.func"
   ]
  },
  {
   "cell_type": "code",
   "execution_count": 54,
   "metadata": {},
   "outputs": [],
   "source": [
    "kappa = KappaScore()"
   ]
  },
  {
   "cell_type": "code",
   "execution_count": 55,
   "metadata": {},
   "outputs": [],
   "source": [
    "learn.metrics = [kappa, accuracy]"
   ]
  },
  {
   "cell_type": "code",
   "execution_count": 56,
   "metadata": {},
   "outputs": [
    {
     "data": {
      "text/html": [
       "Total time: 00:02 <p><table style='width:375px; margin-bottom:10px'>\n",
       "  <tr>\n",
       "    <th>epoch</th>\n",
       "    <th>train_loss</th>\n",
       "    <th>valid_loss</th>\n",
       "    <th>kappa_score</th>\n",
       "    <th>accuracy</th>\n",
       "  </tr>\n",
       "  <tr>\n",
       "    <th>1</th>\n",
       "    <th>0.691934</th>\n",
       "    <th>0.413044</th>\n",
       "    <th>0.784620</th>\n",
       "    <th>0.856349</th>\n",
       "  </tr>\n",
       "</table>\n"
      ],
      "text/plain": [
       "<IPython.core.display.HTML object>"
      ]
     },
     "metadata": {},
     "output_type": "display_data"
    }
   ],
   "source": [
    "learn.fit_one_cycle(1, 1e-1, moms=(0.8,0.7))"
   ]
  },
  {
   "cell_type": "code",
   "execution_count": 57,
   "metadata": {},
   "outputs": [],
   "source": [
    "learn.save('first-full')"
   ]
  },
  {
   "cell_type": "code",
   "execution_count": 58,
   "metadata": {},
   "outputs": [],
   "source": [
    "learn.load('first-full');"
   ]
  },
  {
   "cell_type": "code",
   "execution_count": 59,
   "metadata": {},
   "outputs": [
    {
     "data": {
      "text/html": [
       "Total time: 00:16 <p><table style='width:375px; margin-bottom:10px'>\n",
       "  <tr>\n",
       "    <th>epoch</th>\n",
       "    <th>train_loss</th>\n",
       "    <th>valid_loss</th>\n",
       "    <th>kappa_score</th>\n",
       "    <th>accuracy</th>\n",
       "  </tr>\n",
       "  <tr>\n",
       "    <th>1</th>\n",
       "    <th>0.525036</th>\n",
       "    <th>0.278767</th>\n",
       "    <th>0.852212</th>\n",
       "    <th>0.901587</th>\n",
       "  </tr>\n",
       "  <tr>\n",
       "    <th>2</th>\n",
       "    <th>0.368565</th>\n",
       "    <th>0.203933</th>\n",
       "    <th>0.893889</th>\n",
       "    <th>0.929365</th>\n",
       "  </tr>\n",
       "  <tr>\n",
       "    <th>3</th>\n",
       "    <th>0.292219</th>\n",
       "    <th>0.178353</th>\n",
       "    <th>0.916496</th>\n",
       "    <th>0.944444</th>\n",
       "  </tr>\n",
       "  <tr>\n",
       "    <th>4</th>\n",
       "    <th>0.177254</th>\n",
       "    <th>0.175377</th>\n",
       "    <th>0.915315</th>\n",
       "    <th>0.943651</th>\n",
       "  </tr>\n",
       "  <tr>\n",
       "    <th>5</th>\n",
       "    <th>0.153373</th>\n",
       "    <th>0.178374</th>\n",
       "    <th>0.915324</th>\n",
       "    <th>0.943651</th>\n",
       "  </tr>\n",
       "</table>\n"
      ],
      "text/plain": [
       "<IPython.core.display.HTML object>"
      ]
     },
     "metadata": {},
     "output_type": "display_data"
    }
   ],
   "source": [
    "learn.freeze_to(-2)\n",
    "learn.fit_one_cycle(5, slice(1e-2/(2.6**4),1e-2), moms=(0.8,0.7))"
   ]
  },
  {
   "cell_type": "code",
   "execution_count": 60,
   "metadata": {},
   "outputs": [],
   "source": [
    "learn.save('final')"
   ]
  },
  {
   "cell_type": "code",
   "execution_count": 61,
   "metadata": {},
   "outputs": [
    {
     "data": {
      "text/plain": [
       "(Category sports, tensor(2), tensor([0.2249, 0.0265, 0.7486]))"
      ]
     },
     "execution_count": 61,
     "metadata": {},
     "output_type": "execute_result"
    }
   ],
   "source": [
    "learn.predict('ന്യൂഡല്‍ഹി: വിക്കറ്റിന് പിറകിൽ എം.എസ്. ധോനിയുടെ പിന്‍ഗാമിയായി സെലക്ടര്‍മാര്‍ ഉയര്‍ത്തിക്കാട്ടിയ താരമായിരുന്നു ഋഷഭ് ')"
   ]
  },
  {
   "cell_type": "code",
   "execution_count": 62,
   "metadata": {},
   "outputs": [
    {
     "data": {
      "text/plain": [
       "(Category sports, tensor(2), tensor([0.1004, 0.0076, 0.8920]))"
      ]
     },
     "execution_count": 62,
     "metadata": {},
     "output_type": "execute_result"
    }
   ],
   "source": [
    "learn.predict(\"കോഴിക്കോട്: ഏറെ പ്രതീക്ഷയോടെ ഐ ലീഗ് സീസണിന് ഇറങ്ങിയ ഗോകുലം കേരള എഫ്.സിക്ക് ഒടുവില്‍ നിരാശയായിരുന്നു\")"
   ]
  },
  {
   "cell_type": "code",
   "execution_count": 63,
   "metadata": {},
   "outputs": [
    {
     "data": {
      "text/plain": [
       "(Category entertainment, tensor(1), tensor([0.0050, 0.9913, 0.0037]))"
      ]
     },
     "execution_count": 63,
     "metadata": {},
     "output_type": "execute_result"
    }
   ],
   "source": [
    "learn.predict(\"ഒരൊറ്റ സീന്‍. ഒരൊറ്റ ഡയലോഗ്. ഇരിങ്ങാലക്കുടയ്ക്കപ്പുറത്ത് ഏറെയൊന്നും അറിയപ്പെടാതിരുന്ന ആളൂര്‍\")"
   ]
  },
  {
   "cell_type": "code",
   "execution_count": 64,
   "metadata": {},
   "outputs": [
    {
     "data": {
      "text/plain": [
       "(Category entertainment, tensor(1), tensor([0.0015, 0.9951, 0.0034]))"
      ]
     },
     "execution_count": 64,
     "metadata": {},
     "output_type": "execute_result"
    }
   ],
   "source": [
    "learn.predict(\"ബിഗ് ബോസ് എന്ന റിയാലിറ്റി ഷോയിലൂടെ മലയാളികളുടെ പ്രിയങ്കരനായി മാറിയ ടെലിവിഷന്‍ താരമാണ് ഷിയാസ് \")"
   ]
  },
  {
   "cell_type": "code",
   "execution_count": 65,
   "metadata": {},
   "outputs": [
    {
     "data": {
      "text/plain": [
       "(Category business, tensor(0), tensor([0.9818, 0.0151, 0.0031]))"
      ]
     },
     "execution_count": 65,
     "metadata": {},
     "output_type": "execute_result"
    }
   ],
   "source": [
    "learn.predict(\"ന്യൂഡല്‍ഹി: തിരഞ്ഞെടുപ്പിന് മാസങ്ങൾമാത്രം ശേഷിക്കെ മോദി സർക്കാരിന്റെ അഞ്ചുവർഷത്തെ നേട്ടങ്ങൾ\")"
   ]
  },
  {
   "cell_type": "code",
   "execution_count": null,
   "metadata": {},
   "outputs": [],
   "source": []
  }
 ],
 "metadata": {
  "kernelspec": {
   "display_name": "Python 3",
   "language": "python",
   "name": "python3"
  },
  "language_info": {
   "codemirror_mode": {
    "name": "ipython",
    "version": 3
   },
   "file_extension": ".py",
   "mimetype": "text/x-python",
   "name": "python",
   "nbconvert_exporter": "python",
   "pygments_lexer": "ipython3",
   "version": "3.6.7"
  }
 },
 "nbformat": 4,
 "nbformat_minor": 2
}
