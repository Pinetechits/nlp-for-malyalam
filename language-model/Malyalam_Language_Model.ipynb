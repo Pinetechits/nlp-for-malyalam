{
 "cells": [
  {
   "cell_type": "code",
   "execution_count": 1,
   "metadata": {},
   "outputs": [],
   "source": [
    "%reload_ext autoreload\n",
    "%autoreload 2\n",
    "%matplotlib inline"
   ]
  },
  {
   "cell_type": "code",
   "execution_count": 2,
   "metadata": {},
   "outputs": [],
   "source": [
    "from fastai.text import *\n",
    "import numpy as np\n",
    "from sklearn.model_selection import train_test_split\n",
    "import pickle\n",
    "import sentencepiece as spm"
   ]
  },
  {
   "cell_type": "code",
   "execution_count": 3,
   "metadata": {},
   "outputs": [
    {
     "data": {
      "text/plain": [
       "('1.0.40', '1.0.0')"
      ]
     },
     "execution_count": 3,
     "metadata": {},
     "output_type": "execute_result"
    }
   ],
   "source": [
    "import fastai, torch\n",
    "fastai.__version__ , torch.__version__"
   ]
  },
  {
   "cell_type": "code",
   "execution_count": 4,
   "metadata": {},
   "outputs": [],
   "source": [
    "torch.cuda.set_device(0)"
   ]
  },
  {
   "cell_type": "code",
   "execution_count": 5,
   "metadata": {},
   "outputs": [
    {
     "name": "stdout",
     "output_type": "stream",
     "text": [
      "/home/gaurav/PycharmProjects/nlp-for-malyalam/language-model\r\n"
     ]
    }
   ],
   "source": [
    "!pwd"
   ]
  },
  {
   "cell_type": "code",
   "execution_count": 6,
   "metadata": {},
   "outputs": [],
   "source": [
    "path = Path('/home/gaurav/PycharmProjects/nlp-for-malyalam/language-model')"
   ]
  },
  {
   "cell_type": "code",
   "execution_count": 7,
   "metadata": {},
   "outputs": [],
   "source": [
    "p = path.glob('MalyalamWikipediaArticles/*')\n",
    "files = [x for x in p if x.is_file()]"
   ]
  },
  {
   "cell_type": "code",
   "execution_count": 8,
   "metadata": {},
   "outputs": [
    {
     "data": {
      "text/plain": [
       "12388"
      ]
     },
     "execution_count": 8,
     "metadata": {},
     "output_type": "execute_result"
    }
   ],
   "source": [
    "len(files)"
   ]
  },
  {
   "cell_type": "code",
   "execution_count": 9,
   "metadata": {},
   "outputs": [],
   "source": [
    "train_files, test_files = train_test_split(files, test_size=0.3)"
   ]
  },
  {
   "cell_type": "code",
   "execution_count": 10,
   "metadata": {},
   "outputs": [
    {
     "data": {
      "text/plain": [
       "(8671, 3717)"
      ]
     },
     "execution_count": 10,
     "metadata": {},
     "output_type": "execute_result"
    }
   ],
   "source": [
    "len(train_files), len(test_files)"
   ]
  },
  {
   "cell_type": "code",
   "execution_count": 11,
   "metadata": {},
   "outputs": [
    {
     "data": {
      "text/plain": [
       "PosixPath('/home/gaurav/PycharmProjects/nlp-for-malyalam/language-model/MalyalamWikipediaArticles/4228.pkl')"
      ]
     },
     "execution_count": 11,
     "metadata": {},
     "output_type": "execute_result"
    }
   ],
   "source": [
    "train_files[0]"
   ]
  },
  {
   "cell_type": "code",
   "execution_count": 12,
   "metadata": {},
   "outputs": [
    {
     "data": {
      "text/plain": [
       "'4228'"
      ]
     },
     "execution_count": 12,
     "metadata": {},
     "output_type": "execute_result"
    }
   ],
   "source": [
    "str(train_files[0]).split('/')[-1][:-4]"
   ]
  },
  {
   "cell_type": "code",
   "execution_count": 14,
   "metadata": {},
   "outputs": [],
   "source": [
    "# Preparing dataset for fastai\n",
    "for file in train_files:\n",
    "    with open(file, 'rb') as f:\n",
    "        text = pickle.load(f)\n",
    "    with open(path/'MalyalamDataset'/'train'/(str(file).split('/')[-1][:-4]+'.txt'), \"w\") as text_file:\n",
    "        text_file.write(text)"
   ]
  },
  {
   "cell_type": "code",
   "execution_count": 15,
   "metadata": {},
   "outputs": [],
   "source": [
    "for file in test_files:\n",
    "    with open(file, 'rb') as f:\n",
    "        text = pickle.load(f)\n",
    "    with open(path/'MalyalamDataset'/'valid'/(str(file).split('/')[-1][:-4]+'.txt'), \"w\") as text_file:\n",
    "        text_file.write(text)"
   ]
  },
  {
   "cell_type": "code",
   "execution_count": 16,
   "metadata": {},
   "outputs": [],
   "source": [
    "class MalyalamTokenizer(BaseTokenizer):\n",
    "    def __init__(self, lang:str):\n",
    "        self.lang = lang\n",
    "        self.sp = spm.SentencePieceProcessor()\n",
    "        self.sp.Load(str(path/\"../tokenizer/malyalam_lm.model\"))\n",
    "        \n",
    "    def tokenizer(self, t:str) -> List[str]:\n",
    "        return self.sp.EncodeAsPieces(t)"
   ]
  },
  {
   "cell_type": "code",
   "execution_count": 17,
   "metadata": {},
   "outputs": [],
   "source": [
    "sp = spm.SentencePieceProcessor()\n",
    "sp.Load(str(path/\"../tokenizer/malyalam_lm.model\"))\n",
    "itos = [sp.IdToPiece(int(i)) for i in range(10000)]"
   ]
  },
  {
   "cell_type": "code",
   "execution_count": 18,
   "metadata": {},
   "outputs": [],
   "source": [
    "# 10,000 is the vocab size that we chose in sentencepiece\n",
    "malyalam_vocab = Vocab(itos)"
   ]
  },
  {
   "cell_type": "code",
   "execution_count": 19,
   "metadata": {},
   "outputs": [],
   "source": [
    "tokenizer = Tokenizer(tok_func=MalyalamTokenizer, lang='ml')"
   ]
  },
  {
   "cell_type": "code",
   "execution_count": 20,
   "metadata": {},
   "outputs": [
    {
     "data": {
      "text/plain": [
       "['xxunk', 'xxpad', 'xxbos', 'xxfld', 'xxmaj', 'xxup', 'xxrep', 'xxwrep']"
      ]
     },
     "execution_count": 20,
     "metadata": {},
     "output_type": "execute_result"
    }
   ],
   "source": [
    "tokenizer.special_cases"
   ]
  },
  {
   "cell_type": "code",
   "execution_count": 21,
   "metadata": {},
   "outputs": [],
   "source": [
    "data_lm = TextLMDataBunch.from_folder(path=path/'MalyalamDataset', tokenizer=tokenizer, vocab=malyalam_vocab)"
   ]
  },
  {
   "cell_type": "code",
   "execution_count": 22,
   "metadata": {},
   "outputs": [
    {
     "data": {
      "text/plain": [
       "64"
      ]
     },
     "execution_count": 22,
     "metadata": {},
     "output_type": "execute_result"
    }
   ],
   "source": [
    "data_lm.batch_size"
   ]
  },
  {
   "cell_type": "code",
   "execution_count": 23,
   "metadata": {},
   "outputs": [],
   "source": [
    "data_lm.save()"
   ]
  },
  {
   "cell_type": "code",
   "execution_count": 24,
   "metadata": {},
   "outputs": [
    {
     "data": {
      "text/html": [
       "<table>  <col width='5%'>  <col width='95%'>  <tr>\n",
       "    <th>idx</th>\n",
       "    <th>text</th>\n",
       "  </tr>\n",
       "  <tr>\n",
       "    <th>0</th>\n",
       "    <th>▁ x x bo s ▁സംഗീത വി ദു ഷി യും ▁സാഹിത്യ കാരി യുമായിരുന്നു ▁ഇ ക്കു അ മ്മ ▁ തമ്പുരാൻ . സു ഭദ്ര ▁എന്നും ▁ഇവർ ▁അറിയപ്പെട്ട ിരുന്നു . ▁കൊച്ചി രാജ ▁കുടുംബത്തിലെ ▁അംഗ മായിരുന്ന ▁ഇ ക്കു അ മ്മ യുടെ ▁ആദ്യകാല ഗുരു ക്ക ന്മാർ ▁മൂ ഴി ക്കുളം ▁കുഞ്ഞ ുണ്ണി ▁ന മ്പി യാ രും ▁പുതിയ േ ട ത്ത് ▁ഗോവിന്ദ ൻ ▁ന മ്പി യാ രും ▁ആയിരുന്നു . നാടക ാ ലങ്കാര ങ്ങളാണ് ▁ഇവര ിൽ ▁നിന്ന് ▁അഭ്യസിച്ച</th>\n",
       "  </tr>\n",
       "  <tr>\n",
       "    <th>1</th>\n",
       "    <th>▁മത ങ്ങളെ കുറ ിച്ച് ▁തീർത്ത ▁ചുമ ർ ചിത്ര ങ്ങളെ കുറ ിച്ചു മുള്ള ▁ഗി ർ ല ാൻ ഡൈ യോ യുടെ ▁കഴിവ ിനേയും , ▁പെറു ഗ് വി നോ യുടെ , ▁വിശുദ്ധ രുടേയും , മാ ലാ ഖ മാ രുടേയും ▁എല്ലാ യി പ്പോഴും , ▁പൂർണ്ണമായ ും ▁ആ ശ്ര യി ക്കാവുന്ന ▁ര മ്യ ത യേയും , നിര പര ാദി ത്വ ത്തേയും ▁വര ക്കാനുള്ള ▁കഴിവ ിനേയും ▁പ്രശംസ ിക്കുന്ന ▁സ ന്തു ഷ്ട ായ ിരിക്കുന്ന ▁ആ ശ്ര യ</th>\n",
       "  </tr>\n",
       "  <tr>\n",
       "    <th>2</th>\n",
       "    <th>മല • ▁അ മല തരം • ▁അമൃത ധാര • ▁അല സ • ▁അ ലോ ല • ▁അവ നി • ▁അ ർണ്ണ ം • ▁അ ർണ്ണ വ ം • ▁അർദ്ധ കേ ക • ▁അ ശ്വ ഗതി • ▁അ ശ്വ ഗതി • ▁അ ശ്വ ല ളി തം • ▁അസ ം ബാധ • ▁ആഖ്യാന കി • ▁ആ പാത ാളി ക • ▁ആ പീഡ ം • ▁ആര്യ • ▁ആര്യ ാ ഗീത ി • ▁ഇ</th>\n",
       "  </tr>\n",
       "  <tr>\n",
       "    <th>3</th>\n",
       "    <th>▁മരിച്ച പ്പോൾ , ▁ബംഗാളിലെ ▁ഭരണം ▁കമ്പനി ▁നേരിട്ട് ▁ഏറ്റെടുത്ത തായി ▁റോബർട്ട് ▁ക്ല ൈ വ് ▁പ്രഖ്യാപിച്ചു . ▁മുഗൾ ▁ചക്രവർത്തി യും ▁ബംഗാൾ ▁പ്രവിശ്യ യുടെ ▁ദിവാൻ ▁ആയി ▁കമ്പനി യെ ▁അംഗീകരിച്ച ു . ▁ഇതോടെ ▁ബംഗാൾ ▁പ്രവിശ്യ യിൽ ▁നിന്ന് ▁ലഭിക്കുന്ന ▁നികുതി വരു മാന ം ▁ഉപയോഗിച്ചു ▁തന്നെ ▁ഇന്ത്യയിൽ ▁നിന്ന് ▁സാധനങ്ങൾ ▁വാങ്ങി ▁ബ്രിട്ട ണ ിലെത്തി ക്കാൻ ▁കമ്പനി ക്കു ▁കഴിഞ്ഞു . ▁പ്ലാ സി ▁യുദ്ധ ത്തിനു ▁മുൻപ് ▁ബ്രിട്ട ണ ിൽ ▁നിന്നും ▁കൊണ്ടുവന്ന ▁സ്വർണ്ണ വും ▁വെള്ളി യും ▁ഉപയോഗിച്ചാണ് ▁കമ്പനി ▁ഇന്ത്യയിൽ ▁നിന്ന്</th>\n",
       "  </tr>\n",
       "  <tr>\n",
       "    <th>4</th>\n",
       "    <th>▁നേതാവായ ി . ▁ആ ▁നേതാവ് ▁തന്നെ പ്പോ ലൊ രുവ നെ ▁തന്റെ ▁കാൽ ▁ന ക്കാനായി ▁തെരഞ്ഞെടുക്ക ുന്നു . ▁ആ ▁സേവന ത്തിന് ▁അവ നു ▁കൊടുത്ത ിരുന്ന ▁പ്രതിഫല ം ▁ക ഴു ത മാ ം സ മായിരുന്നു . ▁കൂടുതൽ ▁ വൃത്തി കെട്ട ▁മറ്റൊരു വ നെ ▁കണ്ടു ക ിട്ടും ▁വരെ ▁അവ ൻ ▁ഈ ▁സേവന ത്തിൽ ▁തുടർന്നു . ▁സാഹിത്യ സംബന്ധിയായ ▁ലക്ഷ്യ ങ്ങള േക്കാൾ , ▁വ്യക്തി പരമായ ▁തിക ് ത ാനുഭവ ങ്ങൾ ▁മൂലം ▁വിധി ക്കും ▁മനുഷ്യ സമൂഹ</th>\n",
       "  </tr>\n",
       "</table>\n"
      ],
      "text/plain": [
       "<IPython.core.display.HTML object>"
      ]
     },
     "metadata": {},
     "output_type": "display_data"
    }
   ],
   "source": [
    "data_lm.show_batch()"
   ]
  },
  {
   "cell_type": "code",
   "execution_count": 25,
   "metadata": {},
   "outputs": [
    {
     "data": {
      "text/plain": [
       "10000"
      ]
     },
     "execution_count": 25,
     "metadata": {},
     "output_type": "execute_result"
    }
   ],
   "source": [
    "len(data_lm.vocab.itos)"
   ]
  },
  {
   "cell_type": "code",
   "execution_count": 26,
   "metadata": {},
   "outputs": [],
   "source": [
    "learn = language_model_learner(data_lm, drop_mult=0.3)"
   ]
  },
  {
   "cell_type": "code",
   "execution_count": 27,
   "metadata": {},
   "outputs": [
    {
     "data": {
      "text/plain": [
       "0"
      ]
     },
     "execution_count": 27,
     "metadata": {},
     "output_type": "execute_result"
    }
   ],
   "source": [
    "gc.collect()"
   ]
  },
  {
   "cell_type": "code",
   "execution_count": 28,
   "metadata": {},
   "outputs": [
    {
     "name": "stdout",
     "output_type": "stream",
     "text": [
      "LR Finder is complete, type {learner_name}.recorder.plot() to see the graph.\n"
     ]
    }
   ],
   "source": [
    "learn.lr_find()"
   ]
  },
  {
   "cell_type": "code",
   "execution_count": 29,
   "metadata": {},
   "outputs": [
    {
     "data": {
      "image/png": "[encoded data removed]",
      "text/plain": [
       "<Figure size 432x288 with 1 Axes>"
      ]
     },
     "metadata": {
      "needs_background": "light"
     },
     "output_type": "display_data"
    }
   ],
   "source": [
    "learn.recorder.plot()"
   ]
  },
  {
   "cell_type": "code",
   "execution_count": 30,
   "metadata": {},
   "outputs": [
    {
     "data": {
      "text/html": [
       "Total time: 02:16 <p><table style='width:300px; margin-bottom:10px'>\n",
       "  <tr>\n",
       "    <th>epoch</th>\n",
       "    <th>train_loss</th>\n",
       "    <th>valid_loss</th>\n",
       "    <th>accuracy</th>\n",
       "  </tr>\n",
       "  <tr>\n",
       "    <th>1</th>\n",
       "    <th>5.313389</th>\n",
       "    <th>5.317996</th>\n",
       "    <th>0.192926</th>\n",
       "  </tr>\n",
       "</table>\n"
      ],
      "text/plain": [
       "<IPython.core.display.HTML object>"
      ]
     },
     "metadata": {},
     "output_type": "display_data"
    }
   ],
   "source": [
    "learn.fit_one_cycle(1, 1e-2, moms=(0.8,0.7))"
   ]
  },
  {
   "cell_type": "code",
   "execution_count": 31,
   "metadata": {},
   "outputs": [],
   "source": [
    "learn.save('first', with_opt=True)"
   ]
  },
  {
   "cell_type": "code",
   "execution_count": 32,
   "metadata": {},
   "outputs": [],
   "source": [
    "learn.load('first', with_opt=True);"
   ]
  },
  {
   "cell_type": "code",
   "execution_count": 33,
   "metadata": {},
   "outputs": [],
   "source": [
    "learn.unfreeze()"
   ]
  },
  {
   "cell_type": "code",
   "execution_count": 34,
   "metadata": {},
   "outputs": [
    {
     "data": {
      "text/html": [
       "Total time: 11:23 <p><table style='width:300px; margin-bottom:10px'>\n",
       "  <tr>\n",
       "    <th>epoch</th>\n",
       "    <th>train_loss</th>\n",
       "    <th>valid_loss</th>\n",
       "    <th>accuracy</th>\n",
       "  </tr>\n",
       "  <tr>\n",
       "    <th>1</th>\n",
       "    <th>4.821220</th>\n",
       "    <th>4.947171</th>\n",
       "    <th>0.226521</th>\n",
       "  </tr>\n",
       "  <tr>\n",
       "    <th>2</th>\n",
       "    <th>4.540115</th>\n",
       "    <th>4.586594</th>\n",
       "    <th>0.260965</th>\n",
       "  </tr>\n",
       "  <tr>\n",
       "    <th>3</th>\n",
       "    <th>4.207016</th>\n",
       "    <th>4.262999</th>\n",
       "    <th>0.297599</th>\n",
       "  </tr>\n",
       "  <tr>\n",
       "    <th>4</th>\n",
       "    <th>3.762584</th>\n",
       "    <th>3.946911</th>\n",
       "    <th>0.340401</th>\n",
       "  </tr>\n",
       "  <tr>\n",
       "    <th>5</th>\n",
       "    <th>3.615202</th>\n",
       "    <th>3.868199</th>\n",
       "    <th>0.352610</th>\n",
       "  </tr>\n",
       "</table>\n"
      ],
      "text/plain": [
       "<IPython.core.display.HTML object>"
      ]
     },
     "metadata": {},
     "output_type": "display_data"
    }
   ],
   "source": [
    "learn.fit_one_cycle(5, 1e-2, moms=(0.8,0.7))"
   ]
  },
  {
   "cell_type": "code",
   "execution_count": 35,
   "metadata": {},
   "outputs": [],
   "source": [
    "learn.save('second_ml_lm', with_opt=True)"
   ]
  },
  {
   "cell_type": "code",
   "execution_count": 36,
   "metadata": {},
   "outputs": [],
   "source": [
    "learn.load('second_ml_lm', with_opt=True);"
   ]
  },
  {
   "cell_type": "code",
   "execution_count": 37,
   "metadata": {},
   "outputs": [
    {
     "data": {
      "text/html": [
       "Total time: 1:31:27 <p><table style='width:300px; margin-bottom:10px'>\n",
       "  <tr>\n",
       "    <th>epoch</th>\n",
       "    <th>train_loss</th>\n",
       "    <th>valid_loss</th>\n",
       "    <th>accuracy</th>\n",
       "  </tr>\n",
       "  <tr>\n",
       "    <th>1</th>\n",
       "    <th>3.639483</th>\n",
       "    <th>3.862605</th>\n",
       "    <th>0.353660</th>\n",
       "  </tr>\n",
       "  <tr>\n",
       "    <th>2</th>\n",
       "    <th>3.576721</th>\n",
       "    <th>3.854642</th>\n",
       "    <th>0.354983</th>\n",
       "  </tr>\n",
       "  <tr>\n",
       "    <th>3</th>\n",
       "    <th>3.498712</th>\n",
       "    <th>3.841652</th>\n",
       "    <th>0.356866</th>\n",
       "  </tr>\n",
       "  <tr>\n",
       "    <th>4</th>\n",
       "    <th>3.502330</th>\n",
       "    <th>3.824311</th>\n",
       "    <th>0.359579</th>\n",
       "  </tr>\n",
       "  <tr>\n",
       "    <th>5</th>\n",
       "    <th>3.529691</th>\n",
       "    <th>3.801533</th>\n",
       "    <th>0.363115</th>\n",
       "  </tr>\n",
       "  <tr>\n",
       "    <th>6</th>\n",
       "    <th>3.505868</th>\n",
       "    <th>3.778597</th>\n",
       "    <th>0.366981</th>\n",
       "  </tr>\n",
       "  <tr>\n",
       "    <th>7</th>\n",
       "    <th>3.488365</th>\n",
       "    <th>3.752562</th>\n",
       "    <th>0.371378</th>\n",
       "  </tr>\n",
       "  <tr>\n",
       "    <th>8</th>\n",
       "    <th>3.433761</th>\n",
       "    <th>3.722181</th>\n",
       "    <th>0.376249</th>\n",
       "  </tr>\n",
       "  <tr>\n",
       "    <th>9</th>\n",
       "    <th>3.494640</th>\n",
       "    <th>3.692692</th>\n",
       "    <th>0.380994</th>\n",
       "  </tr>\n",
       "  <tr>\n",
       "    <th>10</th>\n",
       "    <th>3.242538</th>\n",
       "    <th>3.665724</th>\n",
       "    <th>0.385454</th>\n",
       "  </tr>\n",
       "  <tr>\n",
       "    <th>11</th>\n",
       "    <th>3.251280</th>\n",
       "    <th>3.634029</th>\n",
       "    <th>0.390975</th>\n",
       "  </tr>\n",
       "  <tr>\n",
       "    <th>12</th>\n",
       "    <th>3.355304</th>\n",
       "    <th>3.606741</th>\n",
       "    <th>0.395468</th>\n",
       "  </tr>\n",
       "  <tr>\n",
       "    <th>13</th>\n",
       "    <th>3.275374</th>\n",
       "    <th>3.577246</th>\n",
       "    <th>0.400490</th>\n",
       "  </tr>\n",
       "  <tr>\n",
       "    <th>14</th>\n",
       "    <th>3.286086</th>\n",
       "    <th>3.549962</th>\n",
       "    <th>0.405409</th>\n",
       "  </tr>\n",
       "  <tr>\n",
       "    <th>15</th>\n",
       "    <th>3.177815</th>\n",
       "    <th>3.526214</th>\n",
       "    <th>0.409612</th>\n",
       "  </tr>\n",
       "  <tr>\n",
       "    <th>16</th>\n",
       "    <th>3.125304</th>\n",
       "    <th>3.505081</th>\n",
       "    <th>0.413546</th>\n",
       "  </tr>\n",
       "  <tr>\n",
       "    <th>17</th>\n",
       "    <th>3.074753</th>\n",
       "    <th>3.482647</th>\n",
       "    <th>0.417718</th>\n",
       "  </tr>\n",
       "  <tr>\n",
       "    <th>18</th>\n",
       "    <th>3.158492</th>\n",
       "    <th>3.458098</th>\n",
       "    <th>0.422340</th>\n",
       "  </tr>\n",
       "  <tr>\n",
       "    <th>19</th>\n",
       "    <th>3.050382</th>\n",
       "    <th>3.442466</th>\n",
       "    <th>0.425541</th>\n",
       "  </tr>\n",
       "  <tr>\n",
       "    <th>20</th>\n",
       "    <th>2.931113</th>\n",
       "    <th>3.424089</th>\n",
       "    <th>0.429223</th>\n",
       "  </tr>\n",
       "  <tr>\n",
       "    <th>21</th>\n",
       "    <th>2.933685</th>\n",
       "    <th>3.405193</th>\n",
       "    <th>0.432484</th>\n",
       "  </tr>\n",
       "  <tr>\n",
       "    <th>22</th>\n",
       "    <th>3.056441</th>\n",
       "    <th>3.390584</th>\n",
       "    <th>0.435969</th>\n",
       "  </tr>\n",
       "  <tr>\n",
       "    <th>23</th>\n",
       "    <th>2.984361</th>\n",
       "    <th>3.374269</th>\n",
       "    <th>0.438778</th>\n",
       "  </tr>\n",
       "  <tr>\n",
       "    <th>24</th>\n",
       "    <th>2.919679</th>\n",
       "    <th>3.358581</th>\n",
       "    <th>0.441577</th>\n",
       "  </tr>\n",
       "  <tr>\n",
       "    <th>25</th>\n",
       "    <th>2.784226</th>\n",
       "    <th>3.346676</th>\n",
       "    <th>0.443988</th>\n",
       "  </tr>\n",
       "  <tr>\n",
       "    <th>26</th>\n",
       "    <th>2.728886</th>\n",
       "    <th>3.334591</th>\n",
       "    <th>0.446676</th>\n",
       "  </tr>\n",
       "  <tr>\n",
       "    <th>27</th>\n",
       "    <th>2.761192</th>\n",
       "    <th>3.323645</th>\n",
       "    <th>0.449142</th>\n",
       "  </tr>\n",
       "  <tr>\n",
       "    <th>28</th>\n",
       "    <th>2.793562</th>\n",
       "    <th>3.315369</th>\n",
       "    <th>0.450861</th>\n",
       "  </tr>\n",
       "  <tr>\n",
       "    <th>29</th>\n",
       "    <th>2.782321</th>\n",
       "    <th>3.306741</th>\n",
       "    <th>0.452649</th>\n",
       "  </tr>\n",
       "  <tr>\n",
       "    <th>30</th>\n",
       "    <th>2.726662</th>\n",
       "    <th>3.298517</th>\n",
       "    <th>0.454130</th>\n",
       "  </tr>\n",
       "  <tr>\n",
       "    <th>31</th>\n",
       "    <th>2.707590</th>\n",
       "    <th>3.291379</th>\n",
       "    <th>0.455593</th>\n",
       "  </tr>\n",
       "  <tr>\n",
       "    <th>32</th>\n",
       "    <th>2.711921</th>\n",
       "    <th>3.287884</th>\n",
       "    <th>0.456573</th>\n",
       "  </tr>\n",
       "  <tr>\n",
       "    <th>33</th>\n",
       "    <th>2.750236</th>\n",
       "    <th>3.282650</th>\n",
       "    <th>0.457487</th>\n",
       "  </tr>\n",
       "  <tr>\n",
       "    <th>34</th>\n",
       "    <th>2.745088</th>\n",
       "    <th>3.280091</th>\n",
       "    <th>0.458257</th>\n",
       "  </tr>\n",
       "  <tr>\n",
       "    <th>35</th>\n",
       "    <th>2.707699</th>\n",
       "    <th>3.277061</th>\n",
       "    <th>0.458906</th>\n",
       "  </tr>\n",
       "  <tr>\n",
       "    <th>36</th>\n",
       "    <th>2.743132</th>\n",
       "    <th>3.275301</th>\n",
       "    <th>0.459181</th>\n",
       "  </tr>\n",
       "  <tr>\n",
       "    <th>37</th>\n",
       "    <th>2.487056</th>\n",
       "    <th>3.274765</th>\n",
       "    <th>0.459493</th>\n",
       "  </tr>\n",
       "  <tr>\n",
       "    <th>38</th>\n",
       "    <th>2.637083</th>\n",
       "    <th>3.273566</th>\n",
       "    <th>0.459546</th>\n",
       "  </tr>\n",
       "  <tr>\n",
       "    <th>39</th>\n",
       "    <th>2.623842</th>\n",
       "    <th>3.273417</th>\n",
       "    <th>0.459646</th>\n",
       "  </tr>\n",
       "  <tr>\n",
       "    <th>40</th>\n",
       "    <th>2.653991</th>\n",
       "    <th>3.273627</th>\n",
       "    <th>0.459651</th>\n",
       "  </tr>\n",
       "</table>\n"
      ],
      "text/plain": [
       "<IPython.core.display.HTML object>"
      ]
     },
     "metadata": {},
     "output_type": "display_data"
    }
   ],
   "source": [
    "learn.fit_one_cycle(40, 1e-3, moms=(0.8,0.7))"
   ]
  },
  {
   "cell_type": "code",
   "execution_count": 38,
   "metadata": {},
   "outputs": [],
   "source": [
    "learn.save('third_ml_lm', with_opt=True)"
   ]
  },
  {
   "cell_type": "code",
   "execution_count": 39,
   "metadata": {},
   "outputs": [],
   "source": [
    "learn.load('third_ml_lm', with_opt=True);"
   ]
  },
  {
   "cell_type": "code",
   "execution_count": 40,
   "metadata": {},
   "outputs": [],
   "source": [
    "TEXT = \"ബംഗാളിലെ ▁ഭരണം ▁കമ്പനി\"\n",
    "N_WORDS = 40\n",
    "N_SENTENCES = 2"
   ]
  },
  {
   "cell_type": "code",
   "execution_count": 41,
   "metadata": {},
   "outputs": [
    {
     "name": "stdout",
     "output_type": "stream",
     "text": [
      "ബംഗാളിലെ ▁ഭരണം ▁കമ്പനി യെ മാക്കി ക്ക ഥ ാ ഗ് വി സ ▁സമ്മാന ം ▁ ▁20 . 2 ,000 ▁ ▁പേർ ക്ക് ▁ത ങ്ങൾക്ക് ▁സ്ഥാനം ▁നല്കി ▁ആദര ിച്ചു . ▁വൈദിക - ▁പൊതു ▁- ▁മുസ്ലീം , ▁മുസ്ലീം , ▁ലത്തീൻ , ▁അധ്യാപക ൻ , ഇ ം\n",
      "ബംഗാളിലെ ▁ഭരണം ▁കമ്പനി ക്ക് ▁നൽകിയ ിരുന്നു . . ജ മാ റോ യി ▁ഈ ▁ചേ ർ ച്ച് ▁ഹ ിൽ ▁ഈ ർ ഖ ൗ ▁ ത് ര ബ ത ന ൽ ▁ബി ▁അ ദി ▁ ▁ ▁ ത്ത് ▁ ▁സ് ▁കൂ ▁കേ . ▁ ▁സാധ\n"
     ]
    }
   ],
   "source": [
    "print(\"\\n\".join(learn.predict(TEXT, N_WORDS, temperature=0.75) for _ in range(N_SENTENCES)))"
   ]
  },
  {
   "cell_type": "code",
   "execution_count": 42,
   "metadata": {},
   "outputs": [
    {
     "data": {
      "text/plain": [
       "26.39039188081262"
      ]
     },
     "execution_count": 42,
     "metadata": {},
     "output_type": "execute_result"
    }
   ],
   "source": [
    "np.exp(3.273)"
   ]
  },
  {
   "cell_type": "code",
   "execution_count": null,
   "metadata": {},
   "outputs": [],
   "source": []
  }
 ],
 "metadata": {
  "kernelspec": {
   "display_name": "Python 3",
   "language": "python",
   "name": "python3"
  },
  "language_info": {
   "codemirror_mode": {
    "name": "ipython",
    "version": 3
   },
   "file_extension": ".py",
   "mimetype": "text/x-python",
   "name": "python",
   "nbconvert_exporter": "python",
   "pygments_lexer": "ipython3",
   "version": "3.6.7"
  }
 },
 "nbformat": 4,
 "nbformat_minor": 2
}
