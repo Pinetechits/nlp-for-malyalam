{
 "cells": [
  {
   "cell_type": "code",
   "execution_count": 1,
   "metadata": {},
   "outputs": [],
   "source": [
    "%reload_ext autoreload\n",
    "%autoreload 2\n",
    "%matplotlib inline"
   ]
  },
  {
   "cell_type": "code",
   "execution_count": 2,
   "metadata": {},
   "outputs": [],
   "source": [
    "from fastai.text import *\n",
    "import numpy as np\n",
    "from sklearn.model_selection import train_test_split\n",
    "import pickle\n",
    "import sentencepiece as spm"
   ]
  },
  {
   "cell_type": "code",
   "execution_count": 3,
   "metadata": {},
   "outputs": [
    {
     "data": {
      "text/plain": [
       "('1.0.50.post1', '1.0.1.post2')"
      ]
     },
     "execution_count": 3,
     "metadata": {},
     "output_type": "execute_result"
    }
   ],
   "source": [
    "import fastai, torch\n",
    "fastai.__version__ , torch.__version__"
   ]
  },
  {
   "cell_type": "code",
   "execution_count": 4,
   "metadata": {},
   "outputs": [],
   "source": [
    "torch.cuda.set_device(0)"
   ]
  },
  {
   "cell_type": "code",
   "execution_count": 5,
   "metadata": {},
   "outputs": [
    {
     "name": "stdout",
     "output_type": "stream",
     "text": [
      "/home/gaurav/PycharmProjects/nlp-for-malyalam/language-model\r\n"
     ]
    }
   ],
   "source": [
    "!pwd"
   ]
  },
  {
   "cell_type": "code",
   "execution_count": 6,
   "metadata": {},
   "outputs": [],
   "source": [
    "path = Path('/home/gaurav/PycharmProjects/nlp-for-malyalam/language-model')"
   ]
  },
  {
   "cell_type": "code",
   "execution_count": 7,
   "metadata": {},
   "outputs": [],
   "source": [
    "from inltk.tokenizer import MalyalamTokenizer"
   ]
  },
  {
   "cell_type": "code",
   "execution_count": 8,
   "metadata": {},
   "outputs": [
    {
     "data": {
      "text/plain": [
       "inltk.tokenizer.MalyalamTokenizer"
      ]
     },
     "execution_count": 8,
     "metadata": {},
     "output_type": "execute_result"
    }
   ],
   "source": [
    "MalyalamTokenizer"
   ]
  },
  {
   "cell_type": "code",
   "execution_count": 9,
   "metadata": {},
   "outputs": [],
   "source": [
    "# class MalyalamTokenizer(BaseTokenizer):\n",
    "#     def __init__(self, lang:str):\n",
    "#         self.lang = lang\n",
    "#         self.sp = spm.SentencePieceProcessor()\n",
    "#         self.sp.Load(str(path/\"../tokenizer/malyalam_lm.model\"))\n",
    "        \n",
    "#     def tokenizer(self, t:str) -> List[str]:\n",
    "#         return self.sp.EncodeAsPieces(t)"
   ]
  },
  {
   "cell_type": "code",
   "execution_count": 10,
   "metadata": {},
   "outputs": [],
   "source": [
    "sp = spm.SentencePieceProcessor()\n",
    "sp.Load(str(path/\"../tokenizer/malyalam_lm.model\"))\n",
    "itos = [sp.IdToPiece(int(i)) for i in range(10000)]"
   ]
  },
  {
   "cell_type": "code",
   "execution_count": 11,
   "metadata": {},
   "outputs": [],
   "source": [
    "# 10,000 is the vocab size that we chose in sentencepiece\n",
    "malyalam_vocab = Vocab(itos)"
   ]
  },
  {
   "cell_type": "code",
   "execution_count": 13,
   "metadata": {},
   "outputs": [],
   "source": [
    "tokenizer = Tokenizer(tok_func=MalyalamTokenizer, lang='ml')"
   ]
  },
  {
   "cell_type": "code",
   "execution_count": 14,
   "metadata": {},
   "outputs": [
    {
     "data": {
      "text/plain": [
       "['xxunk',\n",
       " 'xxpad',\n",
       " 'xxbos',\n",
       " 'xxeos',\n",
       " 'xxfld',\n",
       " 'xxmaj',\n",
       " 'xxup',\n",
       " 'xxrep',\n",
       " 'xxwrep']"
      ]
     },
     "execution_count": 14,
     "metadata": {},
     "output_type": "execute_result"
    }
   ],
   "source": [
    "tokenizer.special_cases"
   ]
  },
  {
   "cell_type": "code",
   "execution_count": 15,
   "metadata": {},
   "outputs": [],
   "source": [
    "data_lm = TextLMDataBunch.from_folder(path=path/'MalyalamDataset', tokenizer=tokenizer, vocab=malyalam_vocab)"
   ]
  },
  {
   "cell_type": "code",
   "execution_count": 16,
   "metadata": {},
   "outputs": [
    {
     "data": {
      "text/plain": [
       "64"
      ]
     },
     "execution_count": 16,
     "metadata": {},
     "output_type": "execute_result"
    }
   ],
   "source": [
    "data_lm.batch_size"
   ]
  },
  {
   "cell_type": "code",
   "execution_count": 17,
   "metadata": {},
   "outputs": [],
   "source": [
    "data_lm.save()"
   ]
  },
  {
   "cell_type": "code",
   "execution_count": 18,
   "metadata": {},
   "outputs": [
    {
     "data": {
      "text/html": [
       "<table border=\"1\" class=\"dataframe\">\n",
       "  <thead>\n",
       "    <tr style=\"text-align: right;\">\n",
       "      <th>idx</th>\n",
       "      <th>text</th>\n",
       "    </tr>\n",
       "  </thead>\n",
       "  <tbody>\n",
       "    <tr>\n",
       "      <td>0</td>\n",
       "      <td>ിക യിൽ ▁ഉൾപ്പെടുത്തിയ ിരിക്കുന്നത് . ▁സീ ബോ ൾഡ് സ് ▁ബീച്ച് ▁എന്ന യിനം ▁ബീ ച് ▁വൃക്ഷ ങ്ങൾ ▁നിറഞ്ഞ ▁വന മേഖല യാണ് ▁ഇവിടത്തെ ▁ഒരു ▁പ്രത്യേകത . ▁ശൈത്യകാലത്ത ് ▁പൂർണ്ണമായ ും ▁ഇലപ്പൊ ഴ ിക്കുന്ന ▁ഈ ▁മര ങ്ങൾ ▁ശൈത്യ ത്തിന്റെ ▁അവസാന ത്തോടെ ▁ഒരു ▁ശി ശി ര നി ദ്ര യിൽ നിന്ന െന്നപോലെ ▁ഉ ണ ര ുകയും ▁വീണ്ടും ▁ഇലകൾ ▁ത ളി ർ ക്ക ുവാൻ ▁ആരംഭിക്ക ുകയും ▁ചെയ്യുന്നു . ▁ജപ്പാ ന ിൽനിന്നും ▁ആദ്യമായി ▁ലോകപൈതൃക പട്ട ിക</td>\n",
       "    </tr>\n",
       "    <tr>\n",
       "      <td>1</td>\n",
       "      <td>സി യാർ ▁അലി ം ▁അക്ബർ ▁സാ നി ▁വാ ലാ ▁ഷാ ൻ ▁പാദ ് ഷാ - ഇ - ബാഹ ് ർ - ഉ - ബാർ ▁എന്നാണ് ▁മുഴുവൻ ▁പേര് . ▁മുഗൾ ▁സാമ്രാജ്യ ത്തിലെ ▁ദുർബല നായ ▁ചക്രവർത്തി യാ യാണ് ▁ഫറൂഖ് ▁സി യാർ ▁വിലയിരുത്ത പ്പെടുന്നത് . ▁ഉപ ജാ പ ക സംഘ ത്തിന്റെ ▁പ്രേരണ യാൽ ▁പല തവണ ▁ഇദ്ദേഹം ▁വഴി തെ റ്റ ുകയും ▁സ്വതന്ത്ര മായി ▁ഭരണം ▁നടത്താൻ ▁സാധിക്ക ാതെ ▁വരികയും ▁ചെയ്തു . ▁ഹ സ്സ ൻ</td>\n",
       "    </tr>\n",
       "    <tr>\n",
       "      <td>2</td>\n",
       "      <td>▁പരീക്ഷ യും ▁വിജയിച്ചു . ▁ശ്രീ മൂലം ▁തിരുനാൾ ▁ മഹാരാജാവ ് ▁18 90 ൽ ▁എ . ആ റിനെ ▁സംസ്കൃത ▁പാഠ ശാല യിൽ ▁ഇൻ സ് പെ ക്ട റായി ▁നിയമ ിച്ചു . ▁എ . ആർ . ▁ഈ ▁കാലയളവിൽ ▁നിഷ് ക ൃഷ്ട മായ ▁പാഠ ്യ പദ്ധതി യും ▁പാശ്ചാത്യ രീതി യിലുള്ള ▁ശിക്ഷ ാക്രമ വും ▁നടപ്പാക്ക ി . ▁ജോലി ക്കിടയിൽ ▁സംസ്കൃത ത്തിൽ ▁എം . എ . ▁എഴുതിയ െടുത്തു . ▁18 94 ൽ ▁സംസ്കൃത ▁മഹാ പാഠ</td>\n",
       "    </tr>\n",
       "    <tr>\n",
       "      <td>3</td>\n",
       "      <td>• ▁വംശ പത്ര പതി തം • ▁വംശ യ ഷ്ട ിക • ▁വംശ സ്ഥ ം • ▁വ ് യാള ം • ▁ശങ്കര ചര ിത ം • ▁ശ ശ ധര ബി ംബ ം • ▁ശശി കല • ▁ശശി കല • ▁ശ ാ ർദ്ദ ൂ ല വി ക്രീ ഡി തം • ▁ ശാല ിനി • ▁ശിഖര ിണി • ▁ശിവ ം • ▁ശി താ ഗ്ര • ▁ശുദ്ധ വി രാ ൾ • ▁ശിശു ഭ</td>\n",
       "    </tr>\n",
       "    <tr>\n",
       "      <td>4</td>\n",
       "      <td>ശ ിക്കാൻ ▁തുടങ്ങി . ▁ഈ ▁സമയത്ത് ▁തന്റെ ▁തോ ക്കിൽ ▁നിന്ന് ▁മംഗൽ ▁സ്വയം ▁വെടി യു തി ർ ക്കാൻ ▁ശ്രമിച്ച െങ്കിലും ▁പരാജയപ്പെട്ടു . ▁നി സ് സാര മായ ▁പര ു ക്ക േറ്റ ▁മംഗൽ ▁പാണ്ഡേ യെ ▁അറസ്റ്റ് ▁ചെയ്തു . ▁ബംഗാൾ ▁സൈന്യ ത്തിൽ ▁പുതിയ തായി ▁എത്തിയ ▁എൻ ഫീൽഡ ് - പി - 53 ▁തോ ക്ക ുകളിൽ ▁ഉപയോഗിക്കുന്ന ▁തിര കള െക്കുറിച്ചുള്ള ▁ദു രീ കരിക്ക ാത്ത ▁സംശയ ങ്ങളായിരുന്നു ▁മംഗൽ ▁പാണ്ഡേ യുടെ ▁പെരു മാറ്റ ത്തിനു ▁കാരണമായി ▁ചൂണ്ടിക്കാണിക്ക</td>\n",
       "    </tr>\n",
       "  </tbody>\n",
       "</table>"
      ],
      "text/plain": [
       "<IPython.core.display.HTML object>"
      ]
     },
     "metadata": {},
     "output_type": "display_data"
    }
   ],
   "source": [
    "data_lm.show_batch()"
   ]
  },
  {
   "cell_type": "code",
   "execution_count": 19,
   "metadata": {},
   "outputs": [
    {
     "data": {
      "text/plain": [
       "10000"
      ]
     },
     "execution_count": 19,
     "metadata": {},
     "output_type": "execute_result"
    }
   ],
   "source": [
    "len(data_lm.vocab.itos)"
   ]
  },
  {
   "cell_type": "code",
   "execution_count": 20,
   "metadata": {},
   "outputs": [
    {
     "name": "stderr",
     "output_type": "stream",
     "text": [
      "/home/gaurav/anaconda3/envs/fastai-bleed/lib/python3.6/site-packages/fastai/datasets.py:164: YAMLLoadWarning: calling yaml.load() without Loader=... is deprecated, as the default Loader is unsafe. Please read https://msg.pyyaml.org/load for full details.\n",
      "  with open(fpath, 'r') as yaml_file: return yaml.load(yaml_file)\n"
     ]
    }
   ],
   "source": [
    "learn = language_model_learner(data_lm, AWD_LSTM, drop_mult=0.3)"
   ]
  },
  {
   "cell_type": "code",
   "execution_count": 21,
   "metadata": {},
   "outputs": [
    {
     "data": {
      "text/plain": [
       "1406"
      ]
     },
     "execution_count": 21,
     "metadata": {},
     "output_type": "execute_result"
    }
   ],
   "source": [
    "gc.collect()"
   ]
  },
  {
   "cell_type": "code",
   "execution_count": 28,
   "metadata": {},
   "outputs": [
    {
     "name": "stdout",
     "output_type": "stream",
     "text": [
      "LR Finder is complete, type {learner_name}.recorder.plot() to see the graph.\n"
     ]
    }
   ],
   "source": [
    "learn.lr_find()"
   ]
  },
  {
   "cell_type": "code",
   "execution_count": 29,
   "metadata": {},
   "outputs": [
    {
     "data": {
      "image/png": "[encoded data removed]",
      "text/plain": [
       "<Figure size 432x288 with 1 Axes>"
      ]
     },
     "metadata": {
      "needs_background": "light"
     },
     "output_type": "display_data"
    }
   ],
   "source": [
    "learn.recorder.plot()"
   ]
  },
  {
   "cell_type": "code",
   "execution_count": 30,
   "metadata": {},
   "outputs": [
    {
     "data": {
      "text/html": [
       "Total time: 02:16 <p><table style='width:300px; margin-bottom:10px'>\n",
       "  <tr>\n",
       "    <th>epoch</th>\n",
       "    <th>train_loss</th>\n",
       "    <th>valid_loss</th>\n",
       "    <th>accuracy</th>\n",
       "  </tr>\n",
       "  <tr>\n",
       "    <th>1</th>\n",
       "    <th>5.313389</th>\n",
       "    <th>5.317996</th>\n",
       "    <th>0.192926</th>\n",
       "  </tr>\n",
       "</table>\n"
      ],
      "text/plain": [
       "<IPython.core.display.HTML object>"
      ]
     },
     "metadata": {},
     "output_type": "display_data"
    }
   ],
   "source": [
    "learn.fit_one_cycle(1, 1e-2, moms=(0.8,0.7))"
   ]
  },
  {
   "cell_type": "code",
   "execution_count": 31,
   "metadata": {},
   "outputs": [],
   "source": [
    "learn.save('first', with_opt=True)"
   ]
  },
  {
   "cell_type": "code",
   "execution_count": 32,
   "metadata": {},
   "outputs": [],
   "source": [
    "learn.load('first', with_opt=True);"
   ]
  },
  {
   "cell_type": "code",
   "execution_count": 33,
   "metadata": {},
   "outputs": [],
   "source": [
    "learn.unfreeze()"
   ]
  },
  {
   "cell_type": "code",
   "execution_count": 34,
   "metadata": {},
   "outputs": [
    {
     "data": {
      "text/html": [
       "Total time: 11:23 <p><table style='width:300px; margin-bottom:10px'>\n",
       "  <tr>\n",
       "    <th>epoch</th>\n",
       "    <th>train_loss</th>\n",
       "    <th>valid_loss</th>\n",
       "    <th>accuracy</th>\n",
       "  </tr>\n",
       "  <tr>\n",
       "    <th>1</th>\n",
       "    <th>4.821220</th>\n",
       "    <th>4.947171</th>\n",
       "    <th>0.226521</th>\n",
       "  </tr>\n",
       "  <tr>\n",
       "    <th>2</th>\n",
       "    <th>4.540115</th>\n",
       "    <th>4.586594</th>\n",
       "    <th>0.260965</th>\n",
       "  </tr>\n",
       "  <tr>\n",
       "    <th>3</th>\n",
       "    <th>4.207016</th>\n",
       "    <th>4.262999</th>\n",
       "    <th>0.297599</th>\n",
       "  </tr>\n",
       "  <tr>\n",
       "    <th>4</th>\n",
       "    <th>3.762584</th>\n",
       "    <th>3.946911</th>\n",
       "    <th>0.340401</th>\n",
       "  </tr>\n",
       "  <tr>\n",
       "    <th>5</th>\n",
       "    <th>3.615202</th>\n",
       "    <th>3.868199</th>\n",
       "    <th>0.352610</th>\n",
       "  </tr>\n",
       "</table>\n"
      ],
      "text/plain": [
       "<IPython.core.display.HTML object>"
      ]
     },
     "metadata": {},
     "output_type": "display_data"
    }
   ],
   "source": [
    "learn.fit_one_cycle(5, 1e-2, moms=(0.8,0.7))"
   ]
  },
  {
   "cell_type": "code",
   "execution_count": 35,
   "metadata": {},
   "outputs": [],
   "source": [
    "learn.save('second_ml_lm', with_opt=True)"
   ]
  },
  {
   "cell_type": "code",
   "execution_count": 36,
   "metadata": {},
   "outputs": [],
   "source": [
    "learn.load('second_ml_lm', with_opt=True);"
   ]
  },
  {
   "cell_type": "code",
   "execution_count": 37,
   "metadata": {},
   "outputs": [
    {
     "data": {
      "text/html": [
       "Total time: 1:31:27 <p><table style='width:300px; margin-bottom:10px'>\n",
       "  <tr>\n",
       "    <th>epoch</th>\n",
       "    <th>train_loss</th>\n",
       "    <th>valid_loss</th>\n",
       "    <th>accuracy</th>\n",
       "  </tr>\n",
       "  <tr>\n",
       "    <th>1</th>\n",
       "    <th>3.639483</th>\n",
       "    <th>3.862605</th>\n",
       "    <th>0.353660</th>\n",
       "  </tr>\n",
       "  <tr>\n",
       "    <th>2</th>\n",
       "    <th>3.576721</th>\n",
       "    <th>3.854642</th>\n",
       "    <th>0.354983</th>\n",
       "  </tr>\n",
       "  <tr>\n",
       "    <th>3</th>\n",
       "    <th>3.498712</th>\n",
       "    <th>3.841652</th>\n",
       "    <th>0.356866</th>\n",
       "  </tr>\n",
       "  <tr>\n",
       "    <th>4</th>\n",
       "    <th>3.502330</th>\n",
       "    <th>3.824311</th>\n",
       "    <th>0.359579</th>\n",
       "  </tr>\n",
       "  <tr>\n",
       "    <th>5</th>\n",
       "    <th>3.529691</th>\n",
       "    <th>3.801533</th>\n",
       "    <th>0.363115</th>\n",
       "  </tr>\n",
       "  <tr>\n",
       "    <th>6</th>\n",
       "    <th>3.505868</th>\n",
       "    <th>3.778597</th>\n",
       "    <th>0.366981</th>\n",
       "  </tr>\n",
       "  <tr>\n",
       "    <th>7</th>\n",
       "    <th>3.488365</th>\n",
       "    <th>3.752562</th>\n",
       "    <th>0.371378</th>\n",
       "  </tr>\n",
       "  <tr>\n",
       "    <th>8</th>\n",
       "    <th>3.433761</th>\n",
       "    <th>3.722181</th>\n",
       "    <th>0.376249</th>\n",
       "  </tr>\n",
       "  <tr>\n",
       "    <th>9</th>\n",
       "    <th>3.494640</th>\n",
       "    <th>3.692692</th>\n",
       "    <th>0.380994</th>\n",
       "  </tr>\n",
       "  <tr>\n",
       "    <th>10</th>\n",
       "    <th>3.242538</th>\n",
       "    <th>3.665724</th>\n",
       "    <th>0.385454</th>\n",
       "  </tr>\n",
       "  <tr>\n",
       "    <th>11</th>\n",
       "    <th>3.251280</th>\n",
       "    <th>3.634029</th>\n",
       "    <th>0.390975</th>\n",
       "  </tr>\n",
       "  <tr>\n",
       "    <th>12</th>\n",
       "    <th>3.355304</th>\n",
       "    <th>3.606741</th>\n",
       "    <th>0.395468</th>\n",
       "  </tr>\n",
       "  <tr>\n",
       "    <th>13</th>\n",
       "    <th>3.275374</th>\n",
       "    <th>3.577246</th>\n",
       "    <th>0.400490</th>\n",
       "  </tr>\n",
       "  <tr>\n",
       "    <th>14</th>\n",
       "    <th>3.286086</th>\n",
       "    <th>3.549962</th>\n",
       "    <th>0.405409</th>\n",
       "  </tr>\n",
       "  <tr>\n",
       "    <th>15</th>\n",
       "    <th>3.177815</th>\n",
       "    <th>3.526214</th>\n",
       "    <th>0.409612</th>\n",
       "  </tr>\n",
       "  <tr>\n",
       "    <th>16</th>\n",
       "    <th>3.125304</th>\n",
       "    <th>3.505081</th>\n",
       "    <th>0.413546</th>\n",
       "  </tr>\n",
       "  <tr>\n",
       "    <th>17</th>\n",
       "    <th>3.074753</th>\n",
       "    <th>3.482647</th>\n",
       "    <th>0.417718</th>\n",
       "  </tr>\n",
       "  <tr>\n",
       "    <th>18</th>\n",
       "    <th>3.158492</th>\n",
       "    <th>3.458098</th>\n",
       "    <th>0.422340</th>\n",
       "  </tr>\n",
       "  <tr>\n",
       "    <th>19</th>\n",
       "    <th>3.050382</th>\n",
       "    <th>3.442466</th>\n",
       "    <th>0.425541</th>\n",
       "  </tr>\n",
       "  <tr>\n",
       "    <th>20</th>\n",
       "    <th>2.931113</th>\n",
       "    <th>3.424089</th>\n",
       "    <th>0.429223</th>\n",
       "  </tr>\n",
       "  <tr>\n",
       "    <th>21</th>\n",
       "    <th>2.933685</th>\n",
       "    <th>3.405193</th>\n",
       "    <th>0.432484</th>\n",
       "  </tr>\n",
       "  <tr>\n",
       "    <th>22</th>\n",
       "    <th>3.056441</th>\n",
       "    <th>3.390584</th>\n",
       "    <th>0.435969</th>\n",
       "  </tr>\n",
       "  <tr>\n",
       "    <th>23</th>\n",
       "    <th>2.984361</th>\n",
       "    <th>3.374269</th>\n",
       "    <th>0.438778</th>\n",
       "  </tr>\n",
       "  <tr>\n",
       "    <th>24</th>\n",
       "    <th>2.919679</th>\n",
       "    <th>3.358581</th>\n",
       "    <th>0.441577</th>\n",
       "  </tr>\n",
       "  <tr>\n",
       "    <th>25</th>\n",
       "    <th>2.784226</th>\n",
       "    <th>3.346676</th>\n",
       "    <th>0.443988</th>\n",
       "  </tr>\n",
       "  <tr>\n",
       "    <th>26</th>\n",
       "    <th>2.728886</th>\n",
       "    <th>3.334591</th>\n",
       "    <th>0.446676</th>\n",
       "  </tr>\n",
       "  <tr>\n",
       "    <th>27</th>\n",
       "    <th>2.761192</th>\n",
       "    <th>3.323645</th>\n",
       "    <th>0.449142</th>\n",
       "  </tr>\n",
       "  <tr>\n",
       "    <th>28</th>\n",
       "    <th>2.793562</th>\n",
       "    <th>3.315369</th>\n",
       "    <th>0.450861</th>\n",
       "  </tr>\n",
       "  <tr>\n",
       "    <th>29</th>\n",
       "    <th>2.782321</th>\n",
       "    <th>3.306741</th>\n",
       "    <th>0.452649</th>\n",
       "  </tr>\n",
       "  <tr>\n",
       "    <th>30</th>\n",
       "    <th>2.726662</th>\n",
       "    <th>3.298517</th>\n",
       "    <th>0.454130</th>\n",
       "  </tr>\n",
       "  <tr>\n",
       "    <th>31</th>\n",
       "    <th>2.707590</th>\n",
       "    <th>3.291379</th>\n",
       "    <th>0.455593</th>\n",
       "  </tr>\n",
       "  <tr>\n",
       "    <th>32</th>\n",
       "    <th>2.711921</th>\n",
       "    <th>3.287884</th>\n",
       "    <th>0.456573</th>\n",
       "  </tr>\n",
       "  <tr>\n",
       "    <th>33</th>\n",
       "    <th>2.750236</th>\n",
       "    <th>3.282650</th>\n",
       "    <th>0.457487</th>\n",
       "  </tr>\n",
       "  <tr>\n",
       "    <th>34</th>\n",
       "    <th>2.745088</th>\n",
       "    <th>3.280091</th>\n",
       "    <th>0.458257</th>\n",
       "  </tr>\n",
       "  <tr>\n",
       "    <th>35</th>\n",
       "    <th>2.707699</th>\n",
       "    <th>3.277061</th>\n",
       "    <th>0.458906</th>\n",
       "  </tr>\n",
       "  <tr>\n",
       "    <th>36</th>\n",
       "    <th>2.743132</th>\n",
       "    <th>3.275301</th>\n",
       "    <th>0.459181</th>\n",
       "  </tr>\n",
       "  <tr>\n",
       "    <th>37</th>\n",
       "    <th>2.487056</th>\n",
       "    <th>3.274765</th>\n",
       "    <th>0.459493</th>\n",
       "  </tr>\n",
       "  <tr>\n",
       "    <th>38</th>\n",
       "    <th>2.637083</th>\n",
       "    <th>3.273566</th>\n",
       "    <th>0.459546</th>\n",
       "  </tr>\n",
       "  <tr>\n",
       "    <th>39</th>\n",
       "    <th>2.623842</th>\n",
       "    <th>3.273417</th>\n",
       "    <th>0.459646</th>\n",
       "  </tr>\n",
       "  <tr>\n",
       "    <th>40</th>\n",
       "    <th>2.653991</th>\n",
       "    <th>3.273627</th>\n",
       "    <th>0.459651</th>\n",
       "  </tr>\n",
       "</table>\n"
      ],
      "text/plain": [
       "<IPython.core.display.HTML object>"
      ]
     },
     "metadata": {},
     "output_type": "display_data"
    }
   ],
   "source": [
    "learn.fit_one_cycle(40, 1e-3, moms=(0.8,0.7))"
   ]
  },
  {
   "cell_type": "code",
   "execution_count": 38,
   "metadata": {},
   "outputs": [],
   "source": [
    "learn.save('third_ml_lm', with_opt=True)"
   ]
  },
  {
   "cell_type": "code",
   "execution_count": 22,
   "metadata": {},
   "outputs": [],
   "source": [
    "learn.load('third_ml_lm', with_opt=True);"
   ]
  },
  {
   "cell_type": "code",
   "execution_count": 23,
   "metadata": {},
   "outputs": [],
   "source": [
    "TEXT = \"ബംഗാളിലെ ▁ഭരണം ▁കമ്പനി\"\n",
    "N_WORDS = 40\n",
    "N_SENTENCES = 2"
   ]
  },
  {
   "cell_type": "code",
   "execution_count": 24,
   "metadata": {},
   "outputs": [
    {
     "name": "stdout",
     "output_type": "stream",
     "text": [
      "ബംഗാളിലെ ▁ഭരണം ▁കമ്പനി ▁അധികാര ത്തില ിരുന്ന തിനെ ▁തുടർന്ന് ▁ഭരണ ാധികാര ത്തിനെതിരെ യുള്ള ▁പ്രക്ഷോഭ ങ്ങൾ ▁തുടര ുകയും ▁നടപ്പാക്ക ുകയും ▁ചെയ്തു . ▁എന്നാൽ ▁ഈ ▁നിയമം ▁ ബ്രിട്ടീഷുകാരുടെ ▁കൈ യില ക പ്പെട ാതെ ▁വന്ന തിനാൽ ▁ഇന്ത്യയുടെ ▁സ്വാതന്ത്ര്യ ത്തിന് ▁ശേഷം ▁സി . എം . എസ് . ▁വൈസ്\n",
      "ബംഗാളിലെ ▁ഭരണം ▁കമ്പനി ക്ക് ▁കർശന മായ ▁ഒരു ▁സ്കൂൾ ▁സ്ഥാപിക്ക ുന്നതിന് ▁വേണ്ടി ▁വിദ്യാഭ്യാസ ▁സംവിധാന ത്തിനായി ▁നടത്തുന്ന ▁പദ്ധതി യാണ് ▁ഇന്റർനാഷണൽ ▁ഇൻസ്റ്റിറ്റ്യൂ ട്ട് ▁ഓഫ് ▁ടെക്നോളജി . ▁കേരള ▁സംസ്ഥാന ▁ഐ . ടി . ഒ ▁ യുടെ ▁സ്ഥാപക ൻ ▁എന്ന ▁നിലയിൽ ▁പ്രവർത്തിച്ച ിട്ടുണ്ട് . ▁1999 ▁ൽ ▁ജ യിൽ\n"
     ]
    }
   ],
   "source": [
    "print(\"\\n\".join(learn.predict(TEXT, N_WORDS, temperature=0.75) for _ in range(N_SENTENCES)))"
   ]
  },
  {
   "cell_type": "code",
   "execution_count": 42,
   "metadata": {},
   "outputs": [
    {
     "data": {
      "text/plain": [
       "26.39039188081262"
      ]
     },
     "execution_count": 42,
     "metadata": {},
     "output_type": "execute_result"
    }
   ],
   "source": [
    "np.exp(3.273)"
   ]
  },
  {
   "cell_type": "code",
   "execution_count": 25,
   "metadata": {},
   "outputs": [],
   "source": [
    "defaults.device = torch.device('cpu')\n",
    "learn.model.eval()\n",
    "learn.export()"
   ]
  },
  {
   "cell_type": "code",
   "execution_count": 12,
   "metadata": {},
   "outputs": [],
   "source": [
    "# Generating embedding vectors for visualization"
   ]
  },
  {
   "cell_type": "code",
   "execution_count": 13,
   "metadata": {},
   "outputs": [
    {
     "data": {
      "text/plain": [
       "PosixPath('/home/gaurav/PycharmProjects/nlp-for-malyalam/language-model')"
      ]
     },
     "execution_count": 13,
     "metadata": {},
     "output_type": "execute_result"
    }
   ],
   "source": [
    "path"
   ]
  },
  {
   "cell_type": "code",
   "execution_count": 14,
   "metadata": {},
   "outputs": [],
   "source": [
    "defaults.device = torch.device('cpu')"
   ]
  },
  {
   "cell_type": "code",
   "execution_count": 15,
   "metadata": {},
   "outputs": [],
   "source": [
    "learn = load_learner(path / 'MalyalamDataset/')"
   ]
  },
  {
   "cell_type": "code",
   "execution_count": 16,
   "metadata": {},
   "outputs": [],
   "source": [
    "encoder = get_model(learn.model)[0]"
   ]
  },
  {
   "cell_type": "code",
   "execution_count": 17,
   "metadata": {},
   "outputs": [
    {
     "data": {
      "text/plain": [
       "torch.Size([10000, 400])"
      ]
     },
     "execution_count": 17,
     "metadata": {},
     "output_type": "execute_result"
    }
   ],
   "source": [
    "encoder.state_dict()['encoder.weight'].shape"
   ]
  },
  {
   "cell_type": "code",
   "execution_count": 18,
   "metadata": {},
   "outputs": [],
   "source": [
    "embeddings = encoder.state_dict()['encoder.weight']"
   ]
  },
  {
   "cell_type": "code",
   "execution_count": 19,
   "metadata": {},
   "outputs": [],
   "source": [
    "embeddings = np.array(embeddings)"
   ]
  },
  {
   "cell_type": "code",
   "execution_count": 20,
   "metadata": {},
   "outputs": [
    {
     "data": {
      "text/plain": [
       "(400,)"
      ]
     },
     "execution_count": 20,
     "metadata": {},
     "output_type": "execute_result"
    }
   ],
   "source": [
    "embeddings[0].shape"
   ]
  },
  {
   "cell_type": "code",
   "execution_count": 21,
   "metadata": {},
   "outputs": [],
   "source": [
    "df = pd.DataFrame(embeddings)"
   ]
  },
  {
   "cell_type": "code",
   "execution_count": 22,
   "metadata": {},
   "outputs": [
    {
     "data": {
      "text/html": [
       "<div>\n",
       "<style scoped>\n",
       "    .dataframe tbody tr th:only-of-type {\n",
       "        vertical-align: middle;\n",
       "    }\n",
       "\n",
       "    .dataframe tbody tr th {\n",
       "        vertical-align: top;\n",
       "    }\n",
       "\n",
       "    .dataframe thead th {\n",
       "        text-align: right;\n",
       "    }\n",
       "</style>\n",
       "<table border=\"1\" class=\"dataframe\">\n",
       "  <thead>\n",
       "    <tr style=\"text-align: right;\">\n",
       "      <th></th>\n",
       "      <th>0</th>\n",
       "      <th>1</th>\n",
       "      <th>2</th>\n",
       "      <th>3</th>\n",
       "      <th>4</th>\n",
       "      <th>5</th>\n",
       "      <th>6</th>\n",
       "      <th>7</th>\n",
       "      <th>8</th>\n",
       "      <th>9</th>\n",
       "      <th>...</th>\n",
       "      <th>390</th>\n",
       "      <th>391</th>\n",
       "      <th>392</th>\n",
       "      <th>393</th>\n",
       "      <th>394</th>\n",
       "      <th>395</th>\n",
       "      <th>396</th>\n",
       "      <th>397</th>\n",
       "      <th>398</th>\n",
       "      <th>399</th>\n",
       "    </tr>\n",
       "  </thead>\n",
       "  <tbody>\n",
       "    <tr>\n",
       "      <th>0</th>\n",
       "      <td>0.291967</td>\n",
       "      <td>-0.002322</td>\n",
       "      <td>-0.209247</td>\n",
       "      <td>-0.458362</td>\n",
       "      <td>-0.211871</td>\n",
       "      <td>0.525119</td>\n",
       "      <td>0.216968</td>\n",
       "      <td>0.683054</td>\n",
       "      <td>-0.000421</td>\n",
       "      <td>-0.451211</td>\n",
       "      <td>...</td>\n",
       "      <td>-0.018488</td>\n",
       "      <td>-0.209655</td>\n",
       "      <td>0.576393</td>\n",
       "      <td>0.742110</td>\n",
       "      <td>0.626956</td>\n",
       "      <td>-0.273615</td>\n",
       "      <td>-0.226769</td>\n",
       "      <td>-0.459669</td>\n",
       "      <td>-0.138513</td>\n",
       "      <td>0.613912</td>\n",
       "    </tr>\n",
       "    <tr>\n",
       "      <th>1</th>\n",
       "      <td>-0.273549</td>\n",
       "      <td>0.049740</td>\n",
       "      <td>-1.247350</td>\n",
       "      <td>-1.372303</td>\n",
       "      <td>0.257762</td>\n",
       "      <td>-0.763619</td>\n",
       "      <td>-0.482961</td>\n",
       "      <td>0.171256</td>\n",
       "      <td>0.684894</td>\n",
       "      <td>0.376489</td>\n",
       "      <td>...</td>\n",
       "      <td>0.547570</td>\n",
       "      <td>0.743707</td>\n",
       "      <td>0.798664</td>\n",
       "      <td>-0.216511</td>\n",
       "      <td>-0.258916</td>\n",
       "      <td>-0.239699</td>\n",
       "      <td>-0.022576</td>\n",
       "      <td>0.593854</td>\n",
       "      <td>0.076901</td>\n",
       "      <td>-0.260444</td>\n",
       "    </tr>\n",
       "    <tr>\n",
       "      <th>2</th>\n",
       "      <td>-0.230950</td>\n",
       "      <td>0.072833</td>\n",
       "      <td>-1.153181</td>\n",
       "      <td>-1.288029</td>\n",
       "      <td>0.275702</td>\n",
       "      <td>-0.715835</td>\n",
       "      <td>-0.478983</td>\n",
       "      <td>0.099732</td>\n",
       "      <td>0.692943</td>\n",
       "      <td>0.347465</td>\n",
       "      <td>...</td>\n",
       "      <td>0.525808</td>\n",
       "      <td>0.640240</td>\n",
       "      <td>0.775471</td>\n",
       "      <td>-0.225178</td>\n",
       "      <td>-0.279536</td>\n",
       "      <td>-0.167131</td>\n",
       "      <td>-0.010020</td>\n",
       "      <td>0.608966</td>\n",
       "      <td>0.082256</td>\n",
       "      <td>-0.256163</td>\n",
       "    </tr>\n",
       "    <tr>\n",
       "      <th>3</th>\n",
       "      <td>1.527329</td>\n",
       "      <td>-0.199170</td>\n",
       "      <td>0.261630</td>\n",
       "      <td>-0.411390</td>\n",
       "      <td>0.225107</td>\n",
       "      <td>-0.032793</td>\n",
       "      <td>0.307198</td>\n",
       "      <td>0.282542</td>\n",
       "      <td>-0.511452</td>\n",
       "      <td>-0.663876</td>\n",
       "      <td>...</td>\n",
       "      <td>-0.942614</td>\n",
       "      <td>0.064960</td>\n",
       "      <td>0.044630</td>\n",
       "      <td>0.406766</td>\n",
       "      <td>0.304243</td>\n",
       "      <td>-0.106900</td>\n",
       "      <td>-0.311188</td>\n",
       "      <td>1.198795</td>\n",
       "      <td>-0.061395</td>\n",
       "      <td>-0.982869</td>\n",
       "    </tr>\n",
       "    <tr>\n",
       "      <th>4</th>\n",
       "      <td>-0.253548</td>\n",
       "      <td>-0.032533</td>\n",
       "      <td>-0.413230</td>\n",
       "      <td>0.201865</td>\n",
       "      <td>0.209467</td>\n",
       "      <td>0.416606</td>\n",
       "      <td>1.055918</td>\n",
       "      <td>-0.190680</td>\n",
       "      <td>0.999718</td>\n",
       "      <td>-0.150951</td>\n",
       "      <td>...</td>\n",
       "      <td>0.035856</td>\n",
       "      <td>0.736521</td>\n",
       "      <td>0.932499</td>\n",
       "      <td>0.811180</td>\n",
       "      <td>0.393260</td>\n",
       "      <td>-0.127388</td>\n",
       "      <td>0.585211</td>\n",
       "      <td>0.252797</td>\n",
       "      <td>0.105065</td>\n",
       "      <td>0.084277</td>\n",
       "    </tr>\n",
       "  </tbody>\n",
       "</table>\n",
       "<p>5 rows × 400 columns</p>\n",
       "</div>"
      ],
      "text/plain": [
       "        0         1         2         3         4         5         6    \\\n",
       "0  0.291967 -0.002322 -0.209247 -0.458362 -0.211871  0.525119  0.216968   \n",
       "1 -0.273549  0.049740 -1.247350 -1.372303  0.257762 -0.763619 -0.482961   \n",
       "2 -0.230950  0.072833 -1.153181 -1.288029  0.275702 -0.715835 -0.478983   \n",
       "3  1.527329 -0.199170  0.261630 -0.411390  0.225107 -0.032793  0.307198   \n",
       "4 -0.253548 -0.032533 -0.413230  0.201865  0.209467  0.416606  1.055918   \n",
       "\n",
       "        7         8         9    ...       390       391       392       393  \\\n",
       "0  0.683054 -0.000421 -0.451211  ... -0.018488 -0.209655  0.576393  0.742110   \n",
       "1  0.171256  0.684894  0.376489  ...  0.547570  0.743707  0.798664 -0.216511   \n",
       "2  0.099732  0.692943  0.347465  ...  0.525808  0.640240  0.775471 -0.225178   \n",
       "3  0.282542 -0.511452 -0.663876  ... -0.942614  0.064960  0.044630  0.406766   \n",
       "4 -0.190680  0.999718 -0.150951  ...  0.035856  0.736521  0.932499  0.811180   \n",
       "\n",
       "        394       395       396       397       398       399  \n",
       "0  0.626956 -0.273615 -0.226769 -0.459669 -0.138513  0.613912  \n",
       "1 -0.258916 -0.239699 -0.022576  0.593854  0.076901 -0.260444  \n",
       "2 -0.279536 -0.167131 -0.010020  0.608966  0.082256 -0.256163  \n",
       "3  0.304243 -0.106900 -0.311188  1.198795 -0.061395 -0.982869  \n",
       "4  0.393260 -0.127388  0.585211  0.252797  0.105065  0.084277  \n",
       "\n",
       "[5 rows x 400 columns]"
      ]
     },
     "execution_count": 22,
     "metadata": {},
     "output_type": "execute_result"
    }
   ],
   "source": [
    "df.head()"
   ]
  },
  {
   "cell_type": "code",
   "execution_count": 23,
   "metadata": {},
   "outputs": [
    {
     "data": {
      "text/plain": [
       "(10000, 400)"
      ]
     },
     "execution_count": 23,
     "metadata": {},
     "output_type": "execute_result"
    }
   ],
   "source": [
    "df.shape"
   ]
  },
  {
   "cell_type": "code",
   "execution_count": 24,
   "metadata": {},
   "outputs": [],
   "source": [
    "df.to_csv('embeddings.tsv', sep='\\t', index=False, header=False)"
   ]
  },
  {
   "cell_type": "code",
   "execution_count": 25,
   "metadata": {},
   "outputs": [],
   "source": [
    "df2 = pd.DataFrame(itos)"
   ]
  },
  {
   "cell_type": "code",
   "execution_count": 26,
   "metadata": {},
   "outputs": [
    {
     "data": {
      "text/html": [
       "<div>\n",
       "<style scoped>\n",
       "    .dataframe tbody tr th:only-of-type {\n",
       "        vertical-align: middle;\n",
       "    }\n",
       "\n",
       "    .dataframe tbody tr th {\n",
       "        vertical-align: top;\n",
       "    }\n",
       "\n",
       "    .dataframe thead th {\n",
       "        text-align: right;\n",
       "    }\n",
       "</style>\n",
       "<table border=\"1\" class=\"dataframe\">\n",
       "  <thead>\n",
       "    <tr style=\"text-align: right;\">\n",
       "      <th></th>\n",
       "      <th>0</th>\n",
       "    </tr>\n",
       "  </thead>\n",
       "  <tbody>\n",
       "    <tr>\n",
       "      <th>0</th>\n",
       "      <td>&lt;unk&gt;</td>\n",
       "    </tr>\n",
       "    <tr>\n",
       "      <th>1</th>\n",
       "      <td>&lt;s&gt;</td>\n",
       "    </tr>\n",
       "    <tr>\n",
       "      <th>2</th>\n",
       "      <td>&lt;/s&gt;</td>\n",
       "    </tr>\n",
       "    <tr>\n",
       "      <th>3</th>\n",
       "      <td>.</td>\n",
       "    </tr>\n",
       "    <tr>\n",
       "      <th>4</th>\n",
       "      <td>്</td>\n",
       "    </tr>\n",
       "  </tbody>\n",
       "</table>\n",
       "</div>"
      ],
      "text/plain": [
       "       0\n",
       "0  <unk>\n",
       "1    <s>\n",
       "2   </s>\n",
       "3      .\n",
       "4      ്"
      ]
     },
     "execution_count": 26,
     "metadata": {},
     "output_type": "execute_result"
    }
   ],
   "source": [
    "df2.head()"
   ]
  },
  {
   "cell_type": "code",
   "execution_count": 27,
   "metadata": {},
   "outputs": [
    {
     "data": {
      "text/plain": [
       "(10000, 1)"
      ]
     },
     "execution_count": 27,
     "metadata": {},
     "output_type": "execute_result"
    }
   ],
   "source": [
    "df2.shape"
   ]
  },
  {
   "cell_type": "code",
   "execution_count": 28,
   "metadata": {},
   "outputs": [],
   "source": [
    "df2.to_csv('embeddings_metadata.tsv', sep='\\t', index=False, header=False)"
   ]
  },
  {
   "cell_type": "code",
   "execution_count": 29,
   "metadata": {},
   "outputs": [
    {
     "data": {
      "text/plain": [
       "tensor([-2.7355e-01,  4.9740e-02, -1.2474e+00, -1.3723e+00,  2.5776e-01,\n",
       "        -7.6362e-01, -4.8296e-01,  1.7126e-01,  6.8489e-01,  3.7649e-01,\n",
       "         1.2907e-01,  1.1018e-01,  5.1568e-01,  7.9365e-02, -1.9693e-01,\n",
       "         1.5606e+00,  1.3909e-01,  4.4212e-01,  2.8622e-01,  1.9001e-01,\n",
       "         4.1099e-01,  1.1254e+00, -2.0873e-01, -7.7392e-02,  5.6829e-01,\n",
       "         3.9020e-01,  6.2949e-01,  1.7590e-01,  3.3018e-01,  2.8685e-01,\n",
       "        -7.7555e-01,  3.0622e-01,  1.7872e-01,  9.3845e-01,  4.2830e-02,\n",
       "        -8.5402e-02, -5.2553e-01,  4.3522e-01,  2.7174e-01, -1.2583e-01,\n",
       "         4.8475e-01, -3.7728e-01, -3.6608e-01,  5.4688e-01,  2.1373e-01,\n",
       "        -5.6125e-01, -2.7174e-01, -9.3416e-01,  2.4786e-01, -5.0529e-01,\n",
       "        -3.4035e-01, -2.1120e-01,  3.7982e-02, -1.2824e-01, -3.4154e-01,\n",
       "         8.7507e-01,  4.3182e-01,  3.1867e-01, -1.1197e+00, -1.2728e-01,\n",
       "         9.6618e-01, -7.5389e-02, -3.4188e-01,  2.2546e-01,  1.7317e-01,\n",
       "         1.4208e+00,  1.1709e-01, -1.9090e-02, -4.0858e-02, -1.1572e-01,\n",
       "         1.7867e-01, -2.2730e-01,  9.5290e-01,  8.5460e-01, -5.4994e-02,\n",
       "        -2.2447e+00,  7.6660e-01, -4.2285e-01, -2.3511e-01,  1.4848e-01,\n",
       "        -4.1073e-01,  3.3902e-01,  4.5169e-01, -1.0511e-01,  5.9478e-01,\n",
       "         1.8716e-01,  5.2635e-01,  2.2042e-01, -3.4843e-02,  1.6912e-01,\n",
       "        -2.4716e-01,  3.5367e-01,  1.9962e-01,  2.4432e-01, -3.0583e-01,\n",
       "        -2.6313e-01, -5.4300e-02,  1.6807e-01,  3.3860e-01,  4.0517e-01,\n",
       "        -3.4211e-01,  2.5578e-01, -2.6645e-01, -8.5716e-02, -1.5947e+00,\n",
       "        -5.5090e-02,  3.2921e-01, -1.8224e-01,  9.1738e-01, -1.0322e+00,\n",
       "         1.9760e+00, -5.7727e-01,  5.0660e-01,  4.9145e-01,  3.2897e-01,\n",
       "         5.2335e-02,  1.0763e-01,  7.4897e-02, -4.4596e-02, -1.9440e-02,\n",
       "        -4.4593e-01,  4.0274e-01, -4.8848e-01, -2.7417e-01, -9.5853e-02,\n",
       "         5.4816e-01, -1.9212e-01,  1.4258e-01,  2.8511e-01,  1.9044e-01,\n",
       "        -1.3431e-01,  2.5034e-01,  5.3367e-02, -3.2784e-01, -1.7451e-01,\n",
       "         1.6196e-03,  9.6878e-01, -4.0620e-01,  4.7420e-01, -3.1002e-01,\n",
       "         2.4126e-01,  9.3827e-01, -2.2575e-01,  1.1790e+00,  2.1420e-01,\n",
       "         1.2176e-01,  3.6928e-01, -3.7387e-01,  1.6095e-02, -1.1043e+00,\n",
       "         3.8309e-01, -3.0535e-01,  2.2009e-01,  4.8657e-01,  3.3336e-01,\n",
       "        -2.0681e-02, -3.7418e-01, -9.1325e-01,  2.2386e-01,  1.1208e-01,\n",
       "         7.6523e-01,  5.1890e-01, -1.8135e-01,  8.4246e-01,  1.7637e-01,\n",
       "         3.2233e-01,  2.9010e-01,  6.5388e-01, -1.6610e+00, -4.2370e-02,\n",
       "         2.0479e-01, -6.9538e-02, -1.2717e-01,  3.3148e-01, -1.8729e-01,\n",
       "         6.3649e-01, -2.2464e-01, -1.0190e-01,  4.6866e-01, -5.5892e-02,\n",
       "         3.6058e-01,  3.2559e-01,  3.4009e-01, -2.7135e-01, -1.0699e+00,\n",
       "         4.3009e-02, -5.3111e-01, -2.7182e-01,  1.5959e-01, -5.1326e-01,\n",
       "        -5.8041e-01,  1.0743e-01, -2.5454e-01, -1.9223e-01,  5.0041e-01,\n",
       "        -1.0436e-01, -8.8933e-02,  6.4387e-01, -1.5711e-01,  2.6400e-01,\n",
       "         5.4522e-01,  2.8376e-02, -4.5845e-01,  5.4044e-01, -4.0886e-01,\n",
       "         5.7746e-01,  8.4322e-02, -1.6316e-01,  1.0962e+00, -2.6665e-01,\n",
       "        -3.2856e-01,  2.6375e-01, -7.4362e-01, -2.1490e-01, -5.0500e-01,\n",
       "        -1.1855e-01,  4.5519e-01, -4.1367e-01, -7.2039e-02, -4.5755e-02,\n",
       "         9.1112e-02, -3.6581e-01,  5.9046e-01,  2.2897e-02,  3.3079e-01,\n",
       "         7.2433e-02,  3.7962e-01, -3.9742e-01, -9.3628e-02, -3.8505e-01,\n",
       "         1.9628e-01,  1.9122e-02,  9.5473e-01,  2.0479e-01,  7.0306e-02,\n",
       "        -6.7453e-01,  4.6173e-01,  2.3797e-01, -3.8475e-01, -1.3172e-01,\n",
       "        -3.8401e-02,  3.6653e-01, -1.4525e-01,  6.5865e-01,  8.4010e-01,\n",
       "        -1.5269e-01,  2.0602e-01,  8.4053e-01,  4.1965e-02, -3.9192e-01,\n",
       "        -1.9203e+00,  1.1139e+00,  4.7090e-01, -9.1036e-01,  2.8499e-01,\n",
       "        -1.3596e+00, -4.3914e-01, -2.1283e-01,  5.1143e-01,  4.0260e-01,\n",
       "        -3.0227e-01, -1.9529e-01,  7.4790e-02,  2.5873e-01, -9.0964e-02,\n",
       "         6.0427e-01,  3.1723e-02,  7.2567e-02, -4.8054e-02, -2.5665e-01,\n",
       "         3.1949e-01, -2.5791e-01, -2.4215e-01, -1.2559e-01, -3.1404e-02,\n",
       "        -1.0723e+00, -1.4186e-01, -8.5835e-01,  8.4293e-01,  7.3532e-02,\n",
       "        -1.0460e+00, -4.9860e-01,  5.6247e-01, -5.0750e-01,  3.4033e-01,\n",
       "         2.1924e-01, -8.0956e-02, -8.7188e-01,  5.4076e-01, -2.3494e-01,\n",
       "        -1.9719e-01, -3.3236e-01, -8.6199e-02,  4.6256e-01,  2.2004e-01,\n",
       "         1.8080e-01,  2.4210e-01, -5.9047e-02, -2.5285e-01, -1.9066e-01,\n",
       "        -9.8962e-01,  1.2047e-01, -1.3332e-01,  2.4901e-01, -2.3874e-01,\n",
       "         2.9169e-01,  3.4328e-01, -1.0401e+00, -1.0636e-01, -8.3790e-01,\n",
       "        -2.2283e-01,  3.7870e-02,  3.0247e-01, -3.2111e-01, -3.9612e-01,\n",
       "         3.8965e-01,  6.4064e-02,  1.2912e+00,  3.6725e-01,  8.3852e-02,\n",
       "        -9.8076e-01, -2.5177e-01,  3.2505e-01,  2.8850e-01,  6.8628e-04,\n",
       "         1.0167e+00, -3.3983e-01, -7.0606e-02, -4.1021e-01,  6.2122e-02,\n",
       "         5.7021e-01,  1.8068e-01,  2.2632e-01, -1.7197e-01, -1.1161e-01,\n",
       "        -7.9958e-01, -1.0696e-01,  5.4813e-01, -2.5078e-01, -2.2282e-01,\n",
       "         1.1968e-01,  5.5584e-01, -4.2861e-01, -3.8036e-01, -5.1863e-01,\n",
       "        -4.4458e-01, -4.3260e-01,  1.0323e-01, -9.5130e-01, -4.5454e-01,\n",
       "        -2.5369e-01,  1.6794e-02,  2.4722e-01, -5.3022e-01,  1.2644e-01,\n",
       "        -4.2388e-01, -5.0187e-01,  1.0373e-01,  7.9540e-03, -3.2078e-01,\n",
       "         1.2055e+00,  3.5049e-01, -4.6069e-01,  1.9396e-01,  9.6956e-01,\n",
       "         4.6293e-01, -5.9837e-02,  3.0735e-01,  6.1025e-02,  3.4897e-01,\n",
       "         4.2811e-02,  7.1975e-01, -3.9895e-02,  1.6942e-01,  3.3076e-02,\n",
       "        -2.4922e-01,  3.2290e-01,  4.2509e-01, -3.4705e-02,  4.4104e-01,\n",
       "        -2.7307e-01,  1.1856e-01,  4.9750e-02, -2.6810e-01,  1.4808e-01,\n",
       "        -1.9500e-01, -4.4822e-01,  5.8663e-01,  4.4076e-02,  2.4390e-01,\n",
       "         5.4757e-01,  7.4371e-01,  7.9866e-01, -2.1651e-01, -2.5892e-01,\n",
       "        -2.3970e-01, -2.2576e-02,  5.9385e-01,  7.6901e-02, -2.6044e-01])"
      ]
     },
     "execution_count": 29,
     "metadata": {},
     "output_type": "execute_result"
    }
   ],
   "source": [
    "encoder.state_dict()['encoder.weight'][1]"
   ]
  },
  {
   "cell_type": "code",
   "execution_count": null,
   "metadata": {},
   "outputs": [],
   "source": []
  }
 ],
 "metadata": {
  "kernelspec": {
   "display_name": "Python 3",
   "language": "python",
   "name": "python3"
  },
  "language_info": {
   "codemirror_mode": {
    "name": "ipython",
    "version": 3
   },
   "file_extension": ".py",
   "mimetype": "text/x-python",
   "name": "python",
   "nbconvert_exporter": "python",
   "pygments_lexer": "ipython3",
   "version": "3.7.4"
  }
 },
 "nbformat": 4,
 "nbformat_minor": 2
}
